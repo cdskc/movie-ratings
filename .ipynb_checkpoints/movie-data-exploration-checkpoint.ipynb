{
 "cells": [
  {
   "cell_type": "code",
   "execution_count": null,
   "id": "8bca55f6-d535-4677-9aba-44cc1d67870b",
   "metadata": {},
   "outputs": [],
   "source": [
    "import pandas as pd\n",
    "import ast\n",
    "import matplotlib.pyplot as plt\n",
    "import numpy as np\n",
    "import missingno as msno\n",
    "import seaborn as sns\n",
    "import scipy.stats as stats\n",
    "import warnings # For handling error messages.\n",
    "warnings.simplefilter(action=\"ignore\", category=FutureWarning)"
   ]
  },
  {
   "cell_type": "code",
   "execution_count": null,
   "id": "0324bba9-fb67-477b-b837-90abfb41744e",
   "metadata": {},
   "outputs": [],
   "source": [
    "movie_data = pd.read_csv('data/movie_data_combined.csv')\n",
    "movie_data['director_id'] = movie_data['director_id'].astype('category')\n",
    "movie_data = movie_data.loc[movie_data.runtime > 60]"
   ]
  },
  {
   "cell_type": "code",
   "execution_count": null,
   "id": "711047e7-cad3-40df-ab2d-db29152e1715",
   "metadata": {},
   "outputs": [],
   "source": [
    "movie_data.columns"
   ]
  },
  {
   "cell_type": "code",
   "execution_count": null,
   "id": "ac9e03a0-21ef-4392-b90d-81a277860e0f",
   "metadata": {},
   "outputs": [],
   "source": [
    "movie_data.drop(columns=['cast', 'release_date', 'vote_count', 'original_language', 'popularity'], inplace=True)"
   ]
  },
  {
   "cell_type": "code",
   "execution_count": null,
   "id": "da013322-1679-4a38-a407-3d26321ecb5b",
   "metadata": {},
   "outputs": [],
   "source": [
    "movie_data.genre_ids.unique()"
   ]
  },
  {
   "cell_type": "code",
   "execution_count": null,
   "id": "d5b96371-b943-4ad9-b012-9568e9c65757",
   "metadata": {},
   "outputs": [],
   "source": [
    "len(list(movie_data.director_id.unique()))"
   ]
  },
  {
   "cell_type": "code",
   "execution_count": null,
   "id": "2b7ac713-a5b6-48b9-9a6f-5ef0ff190907",
   "metadata": {},
   "outputs": [],
   "source": [
    "movie_data.dtypes"
   ]
  },
  {
   "cell_type": "code",
   "execution_count": null,
   "id": "c0f6fe97-5e69-48c6-9130-3b3370265bd7",
   "metadata": {},
   "outputs": [],
   "source": [
    "# Find number of unique directors\n",
    "print(f\"Number of unique numbers in the 'director_id' column: {movie_data['director_id'].nunique()}\")"
   ]
  },
  {
   "cell_type": "code",
   "execution_count": null,
   "id": "fc055d8d-cce2-4b3e-8fab-b92c70bc673a",
   "metadata": {},
   "outputs": [],
   "source": [
    "# Convert string representations of lists to actual lists of integers\n",
    "movie_data['genre_ids'] = movie_data['genre_ids'].apply(lambda x: ast.literal_eval(x))\n",
    "\n",
    "# Flatten the list of lists into a single list\n",
    "flattened_list = [number for sublist in movie_data['genre_ids'] for number in sublist]\n",
    "\n",
    "# Convert the flattened list into a set to find unique numbers\n",
    "unique_genres = set(flattened_list)\n",
    "\n",
    "# Count the number of unique elements\n",
    "unique_count = len(unique_genres)\n",
    "\n",
    "print(f\"Number of unique numbers in the 'genre' column: {unique_count}\")"
   ]
  },
  {
   "cell_type": "code",
   "execution_count": null,
   "id": "ac2f7ea0-8947-4921-a361-fcc7101ec9e6",
   "metadata": {},
   "outputs": [],
   "source": [
    "unique_genres"
   ]
  },
  {
   "cell_type": "code",
   "execution_count": null,
   "id": "3fefec10-9f78-4380-90dd-5c4b50c69396",
   "metadata": {},
   "outputs": [],
   "source": [
    "movie_data.groupby('year').size()"
   ]
  },
  {
   "cell_type": "code",
   "execution_count": null,
   "id": "d16a758c-cc67-4412-96c8-288c7e7fe6c4",
   "metadata": {},
   "outputs": [],
   "source": [
    "null_values = movie_data.groupby('year').agg(lambda x: x.isna().sum())\n",
    "null_values_series = null_values[['budget', 'revenue']].T\n",
    "null_values_series"
   ]
  },
  {
   "cell_type": "code",
   "execution_count": null,
   "id": "1ff4b79f-ef33-4f2b-a6c6-2e1e910162a8",
   "metadata": {},
   "outputs": [],
   "source": [
    "null_values_series.loc['budget']"
   ]
  },
  {
   "cell_type": "code",
   "execution_count": null,
   "id": "3d38172f-8249-4e93-a9ed-fc581be26b7a",
   "metadata": {},
   "outputs": [],
   "source": [
    "null_values_series.loc['budget'].plot(x='year',\n",
    "                        y='budget',\n",
    "                        kind='line')\n",
    "\n",
    "null_values_series.loc['revenue'].plot(x='year',\n",
    "                        y='revenue',\n",
    "                        kind='line',\n",
    "                        title='Missing values for budget/revenue')\n",
    "\n",
    "plt.legend(['Budget', 'Revenue'])\n",
    "plt.show()"
   ]
  },
  {
   "cell_type": "code",
   "execution_count": null,
   "id": "10beccf3-3b12-42d0-823c-13508b529b57",
   "metadata": {},
   "outputs": [],
   "source": [
    "kaggle_movies = pd.read_csv('data/kaggle_movies.csv')"
   ]
  },
  {
   "cell_type": "code",
   "execution_count": null,
   "id": "9b3169a8-8f60-4f84-8e6d-59bda0f80503",
   "metadata": {
    "scrolled": true
   },
   "outputs": [],
   "source": [
    "kaggle_movies.head()"
   ]
  },
  {
   "cell_type": "code",
   "execution_count": null,
   "id": "98baf420-b987-49e0-b7fc-9bf0c28afd75",
   "metadata": {},
   "outputs": [],
   "source": [
    "movie_data.dtypes"
   ]
  },
  {
   "cell_type": "code",
   "execution_count": null,
   "id": "e0b22498-a4ed-45a5-8119-6e39243f434d",
   "metadata": {},
   "outputs": [],
   "source": [
    "kaggle_movies.dtypes"
   ]
  },
  {
   "cell_type": "code",
   "execution_count": null,
   "id": "16e81d6d-b6fb-4975-bbb2-6781cdb6086d",
   "metadata": {},
   "outputs": [],
   "source": [
    "kaggle_movies = kaggle_movies.rename(columns={'name': 'title', 'budget': 'kag_budget', 'gross': 'kag_revenue'})"
   ]
  },
  {
   "cell_type": "code",
   "execution_count": null,
   "id": "7ed7c3b7-79aa-4312-95ae-3cbe59fdf3ee",
   "metadata": {
    "scrolled": true
   },
   "outputs": [],
   "source": [
    "kaggle_merge = kaggle_movies[['title','year','kag_budget','kag_revenue']]\n",
    "kaggle_merge"
   ]
  },
  {
   "cell_type": "code",
   "execution_count": null,
   "id": "b2908a9d-ae07-4f08-9ee7-34dfa55af718",
   "metadata": {},
   "outputs": [],
   "source": [
    "movie_data = movie_data.merge(kaggle_merge, how='left', on=['title', 'year'])"
   ]
  },
  {
   "cell_type": "code",
   "execution_count": null,
   "id": "23fc6c87-b35e-4134-a0a2-c30d0b14033d",
   "metadata": {
    "scrolled": true
   },
   "outputs": [],
   "source": [
    "movie_data"
   ]
  },
  {
   "cell_type": "code",
   "execution_count": null,
   "id": "6699d06a-cc04-4c6a-a308-ea0a8593b803",
   "metadata": {},
   "outputs": [],
   "source": [
    "movie_data.isna().sum()"
   ]
  },
  {
   "cell_type": "code",
   "execution_count": null,
   "id": "eb0a4299-c6ac-45f9-9dad-7290f9dfa42f",
   "metadata": {},
   "outputs": [],
   "source": [
    "movie_data.loc[movie_data['budget'].isna() & ~movie_data['kag_budget'].isna(), 'budget'] = movie_data.loc[movie_data['budget'].isna() & ~movie_data['kag_budget'].isna(), 'kag_budget']\n",
    "movie_data.loc[movie_data['revenue'].isna() & ~movie_data['kag_revenue'].isna(), 'revenue'] = movie_data.loc[movie_data['revenue'].isna() & ~movie_data['kag_revenue'].isna(), 'kag_revenue']"
   ]
  },
  {
   "cell_type": "code",
   "execution_count": null,
   "id": "589cdda5-9ccc-4b8d-9ab8-bd63dd893255",
   "metadata": {},
   "outputs": [],
   "source": [
    "movie_data.drop(columns=['kag_budget', 'kag_revenue'], inplace=True)"
   ]
  },
  {
   "cell_type": "code",
   "execution_count": null,
   "id": "dd1b9edd-a4c2-4da5-b623-dd01c66d9f8d",
   "metadata": {},
   "outputs": [],
   "source": [
    "movie_data.isna().sum()"
   ]
  },
  {
   "cell_type": "markdown",
   "id": "6184061b-b70a-4a23-b9ae-ad8fa13a2cb7",
   "metadata": {},
   "source": [
    "Filled in a few missing values, but not many."
   ]
  },
  {
   "cell_type": "code",
   "execution_count": null,
   "id": "76ff21c6-fc7d-4fe9-8639-4d473fb125af",
   "metadata": {},
   "outputs": [],
   "source": [
    "movie_data"
   ]
  },
  {
   "cell_type": "code",
   "execution_count": null,
   "id": "58372ffa-4fdf-4509-91e9-98d0c828603a",
   "metadata": {},
   "outputs": [],
   "source": [
    "genre_dict = {'Action':28, 'Adventure':12, 'Animation':16, 'Comedy':35, 'Crime':80, 'Documentary':99,\n",
    "              'Drama':18, 'Family':10751, 'Fantasy':14, 'History':36, 'Horror':27, 'Music':10402,\n",
    "              'Mystery':9648, 'Romance':10749, 'Science_Fiction':878, 'TV_Movie':10770, 'Thriller':53,\n",
    "              'War':10752, 'Western':37}"
   ]
  },
  {
   "cell_type": "code",
   "execution_count": null,
   "id": "d54f9976-a159-45f9-9e38-473340f41cb0",
   "metadata": {},
   "outputs": [],
   "source": [
    "movie_data.genre_ids[0]"
   ]
  },
  {
   "cell_type": "code",
   "execution_count": null,
   "id": "b4f86768-e885-4627-9118-d0d5fd77a1c7",
   "metadata": {},
   "outputs": [],
   "source": [
    "id_to_genre = {v: k for k, v in genre_dict.items()}\n",
    "\n",
    "# Add new columns for each genre, initializing with 0\n",
    "for genre in genre_dict.keys():\n",
    "    movie_data[genre] = 0\n",
    "\n",
    "# Iterate through the dataframe and set genre columns\n",
    "for index, row in movie_data.iterrows():\n",
    "    for genre_id in row['genre_ids']:\n",
    "        genre_name = id_to_genre.get(genre_id)\n",
    "        if genre_name:\n",
    "            movie_data.at[index, genre_name] = 1"
   ]
  },
  {
   "cell_type": "code",
   "execution_count": null,
   "id": "cb293bbe-a91f-4b3f-aa1a-e8b735458945",
   "metadata": {},
   "outputs": [],
   "source": [
    "movie_data.shape"
   ]
  },
  {
   "cell_type": "code",
   "execution_count": null,
   "id": "e141333f-912c-4924-bf25-7fbcff4cadde",
   "metadata": {},
   "outputs": [],
   "source": [
    "movie_data = movie_data.loc[movie_data.TV_Movie != 1]\n",
    "movie_data.drop(columns='TV_Movie')"
   ]
  },
  {
   "cell_type": "code",
   "execution_count": null,
   "id": "35e801ce-0796-419e-be4b-f25fe40da07f",
   "metadata": {},
   "outputs": [],
   "source": [
    "movie_data.to_csv('../data/filtered_data.csv')\n",
    "movie_data"
   ]
  },
  {
   "cell_type": "code",
   "execution_count": null,
   "id": "ad29f46a-1db1-4baf-b86a-3a4da15e21bc",
   "metadata": {},
   "outputs": [],
   "source": [
    "average_rating = np.mean(movie_data.vote_average)"
   ]
  },
  {
   "cell_type": "code",
   "execution_count": null,
   "id": "5f0ca361-78d9-4f19-b902-c5d817314f2d",
   "metadata": {},
   "outputs": [],
   "source": [
    "_ = plt.hist(movie_data.vote_average, bins=20)\n",
    "_ = plt.axvline(x=average_rating, color='r', linestyle='--')"
   ]
  },
  {
   "cell_type": "code",
   "execution_count": null,
   "id": "aa50cebd-7c22-4e71-9ecb-b5200371ed2d",
   "metadata": {},
   "outputs": [],
   "source": [
    "genre_col = {key: i + 10 for i, key in enumerate(genre_dict.keys())}\n",
    "genre_col"
   ]
  },
  {
   "cell_type": "code",
   "execution_count": null,
   "id": "e9a8361d-b2ef-4481-a91a-5918a277d47b",
   "metadata": {
    "scrolled": true
   },
   "outputs": [],
   "source": [
    "filtered_dfs = {}\n",
    "for genre, col_index in genre_col.items():\n",
    "    filtered_dfs[genre] = movie_data[movie_data.iloc[:, col_index] == 1]"
   ]
  },
  {
   "cell_type": "code",
   "execution_count": null,
   "id": "9e8e765f-cc05-444a-82a7-25a6c21358ef",
   "metadata": {
    "scrolled": true
   },
   "outputs": [],
   "source": [
    "for key in filtered_dfs.keys():\n",
    "    print(key, filtered_dfs[key].vote_average.mean())"
   ]
  },
  {
   "cell_type": "code",
   "execution_count": null,
   "id": "ef73e403-4cbd-4ab1-8888-6e50d1222edd",
   "metadata": {
    "scrolled": true
   },
   "outputs": [],
   "source": [
    "movie_col = movie_data[['vote_average', 'year', 'month', 'budget',\n",
    "       'revenue', 'runtime', 'Action', 'Adventure', 'Animation',\n",
    "       'Comedy', 'Crime', 'Documentary', 'Drama', 'Family', 'Fantasy',\n",
    "       'History', 'Horror', 'Music', 'Mystery', 'Romance', 'Science_Fiction',\n",
    "       'Thriller', 'War', 'Western']]\n",
    "correlation = movie_col.corr()\n",
    "correlation"
   ]
  },
  {
   "cell_type": "code",
   "execution_count": null,
   "id": "0ff484ff-dfb1-42b8-ad97-1113805be34f",
   "metadata": {
    "scrolled": true
   },
   "outputs": [],
   "source": [
    "_ = sns.heatmap(correlation)"
   ]
  },
  {
   "cell_type": "code",
   "execution_count": null,
   "id": "30967cf2-13a2-4cb2-804c-948a9008615a",
   "metadata": {
    "scrolled": true
   },
   "outputs": [],
   "source": [
    "correlation.vote_average.sort_values(ascending=False)"
   ]
  },
  {
   "cell_type": "markdown",
   "id": "38e5ab2e-6fb8-4b95-b5b7-531f286fa022",
   "metadata": {},
   "source": [
    "### Are dramas more popular?"
   ]
  },
  {
   "cell_type": "code",
   "execution_count": null,
   "id": "56744c6a-3504-4420-a626-b3b33e8d5e4c",
   "metadata": {},
   "outputs": [],
   "source": [
    "drama_rating = movie_data.loc[movie_data.Drama == 1].vote_average\n",
    "not_drama_rating = movie_data.loc[movie_data.Drama != 1].vote_average"
   ]
  },
  {
   "cell_type": "code",
   "execution_count": null,
   "id": "565eed8e-22c6-4cbd-9078-c0667721d05f",
   "metadata": {},
   "outputs": [],
   "source": [
    "def ecdf(data):\n",
    "    \"\"\"Compute ECDF for a one-dimensional array of measurements.\"\"\"\n",
    "    # Number of data points: n\n",
    "    n = len(data)\n",
    "\n",
    "    # x-data for the ECDF: x\n",
    "    x = np.sort(data)\n",
    "\n",
    "    # y-data for the ECDF: y\n",
    "    y = np.arange(1, n+1) / n\n",
    "\n",
    "    return x, y"
   ]
  },
  {
   "cell_type": "code",
   "execution_count": null,
   "id": "782900dc-9263-491e-bdf3-7c2746fd7f86",
   "metadata": {},
   "outputs": [],
   "source": [
    "# Compute ECDF for drama data: x_drama, y_drama\n",
    "x_drama, y_drama = ecdf(drama_rating)\n",
    "x_not_drama, y_not_drama = ecdf(not_drama_rating)\n",
    "\n",
    "# Generate plot\n",
    "_ = plt.plot(x_drama, y_drama, marker='.', linestyle='none')\n",
    "_ = plt.plot(x_not_drama, y_not_drama, marker='.', linestyle='none')\n",
    "\n",
    "# Label the axes\n",
    "_ = plt.xlabel('x value?')\n",
    "_ = plt.ylabel('ECDF')\n",
    "_ = plt.legend(['Drama','Not Drama'])\n",
    "_ = plt.title('Empirical Cumulative Distribution Function: Drama films')\n",
    "\n",
    "# Display the plot\n",
    "plt.show()"
   ]
  },
  {
   "cell_type": "markdown",
   "id": "99399ecb-d7d7-4e48-bbff-a666fcae0ffb",
   "metadata": {},
   "source": [
    "#### Visually, it seems clear that dramatic films are rated more highly than other films.\n",
    "We can also demonstrate this through null hypothesis significance testing.\n",
    "\n",
    "Null hypothesis: There is no difference in ratings beween dramas and non-dramatic films."
   ]
  },
  {
   "cell_type": "code",
   "execution_count": null,
   "id": "79d7bfff-f414-4023-9c10-33876c36b2bd",
   "metadata": {},
   "outputs": [],
   "source": [
    "all_rating = np.concatenate((drama_rating, not_drama_rating))\n",
    "mean_replicates = []\n",
    "\n",
    "for i in range(10000):\n",
    "    rand_rating = np.random.permutation(all_rating)\n",
    "    rand_drama = rand_rating[:len(drama_rating)]\n",
    "    # rand_not_drama = rand_rating[len(drama_rating):]\n",
    "    mean_replicates.append(np.mean(rand_drama))"
   ]
  },
  {
   "cell_type": "code",
   "execution_count": null,
   "id": "0efefd24-8c31-439b-83d3-630cefead2a8",
   "metadata": {},
   "outputs": [],
   "source": [
    "np.mean(mean_replicates)"
   ]
  },
  {
   "cell_type": "code",
   "execution_count": null,
   "id": "1444158b-cb4f-4265-8003-2e48ae5ac9b8",
   "metadata": {},
   "outputs": [],
   "source": [
    "drama_mean = np.mean(drama_rating)\n",
    "drama_mean"
   ]
  },
  {
   "cell_type": "code",
   "execution_count": null,
   "id": "59e7ba88-be7c-466e-a76a-35c39d3a2c01",
   "metadata": {},
   "outputs": [],
   "source": [
    "_ = sns.histplot(mean_replicates)\n",
    "_ = plt.axvline(x=drama_mean, color='r', linestyle='--')"
   ]
  },
  {
   "cell_type": "code",
   "execution_count": null,
   "id": "43455920-63b9-49c0-b4bf-3dd0efd20318",
   "metadata": {},
   "outputs": [],
   "source": [
    "mean_replicates_array = np.array(mean_replicates)\n",
    "count_greater_than_drama_mean = np.sum(mean_replicates_array > drama_mean)\n",
    "\n",
    "print(count_greater_than_drama_mean)"
   ]
  },
  {
   "cell_type": "markdown",
   "id": "3444f91c-536d-4228-85ee-46d2249e7378",
   "metadata": {},
   "source": [
    "After taking 10000 permutations of the data, none of the replicates had average ratings anywhere close to the average rating of drama films. We have therefore shown visually and computationally that drama films are rated more highly than the average of all films in the dataset, with a very small p-value."
   ]
  }
 ],
 "metadata": {
  "kernelspec": {
   "display_name": "Python 3 (ipykernel)",
   "language": "python",
   "name": "python3"
  },
  "language_info": {
   "codemirror_mode": {
    "name": "ipython",
    "version": 3
   },
   "file_extension": ".py",
   "mimetype": "text/x-python",
   "name": "python",
   "nbconvert_exporter": "python",
   "pygments_lexer": "ipython3",
   "version": "3.11.7"
  }
 },
 "nbformat": 4,
 "nbformat_minor": 5
}
