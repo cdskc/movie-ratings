{
 "cells": [
  {
   "cell_type": "code",
   "execution_count": 1,
   "id": "8bca55f6-d535-4677-9aba-44cc1d67870b",
   "metadata": {},
   "outputs": [],
   "source": [
    "import pandas as pd\n",
    "import ast\n",
    "import matplotlib.pyplot as plt\n",
    "import numpy as np\n",
    "import missingno as msno\n",
    "import seaborn as sns\n",
    "import scipy.stats as stats\n",
    "import warnings # For handling error messages.\n",
    "warnings.simplefilter(action=\"ignore\", category=FutureWarning)"
   ]
  },
  {
   "cell_type": "code",
   "execution_count": 2,
   "id": "0324bba9-fb67-477b-b837-90abfb41744e",
   "metadata": {},
   "outputs": [],
   "source": [
    "movie_data = pd.read_csv('data/movie_data_combined.csv')\n",
    "movie_data = movie_data.loc[movie_data.runtime > 60]"
   ]
  },
  {
   "cell_type": "code",
   "execution_count": 3,
   "id": "711047e7-cad3-40df-ab2d-db29152e1715",
   "metadata": {},
   "outputs": [
    {
     "data": {
      "text/plain": [
       "Index(['id', 'title', 'vote_average', 'vote_count', 'release_date', 'year',\n",
       "       'month', 'genre_ids', 'original_language', 'popularity', 'budget',\n",
       "       'revenue', 'runtime', 'cast', 'director_id'],\n",
       "      dtype='object')"
      ]
     },
     "execution_count": 3,
     "metadata": {},
     "output_type": "execute_result"
    }
   ],
   "source": [
    "movie_data.columns"
   ]
  },
  {
   "cell_type": "code",
   "execution_count": 4,
   "id": "ac9e03a0-21ef-4392-b90d-81a277860e0f",
   "metadata": {},
   "outputs": [],
   "source": [
    "movie_data.drop(columns=['cast', 'release_date', 'vote_count', 'original_language', 'popularity'], inplace=True)"
   ]
  },
  {
   "cell_type": "code",
   "execution_count": 5,
   "id": "da013322-1679-4a38-a407-3d26321ecb5b",
   "metadata": {},
   "outputs": [
    {
     "data": {
      "text/plain": [
       "array(['[27, 53, 9648]', '[36, 10752, 18, 12]', '[37, 28, 12]', ...,\n",
       "       '[10749, 28, 35]', '[28, 14, 10770]', '[35, 14, 10751, 12, 27]'],\n",
       "      dtype=object)"
      ]
     },
     "execution_count": 5,
     "metadata": {},
     "output_type": "execute_result"
    }
   ],
   "source": [
    "movie_data.genre_ids.unique()"
   ]
  },
  {
   "cell_type": "code",
   "execution_count": 6,
   "id": "d5b96371-b943-4ad9-b012-9568e9c65757",
   "metadata": {},
   "outputs": [
    {
     "data": {
      "text/plain": [
       "2599"
      ]
     },
     "execution_count": 6,
     "metadata": {},
     "output_type": "execute_result"
    }
   ],
   "source": [
    "len(list(movie_data.director_id.unique()))"
   ]
  },
  {
   "cell_type": "code",
   "execution_count": 7,
   "id": "2b7ac713-a5b6-48b9-9a6f-5ef0ff190907",
   "metadata": {},
   "outputs": [
    {
     "data": {
      "text/plain": [
       "id                int64\n",
       "title            object\n",
       "vote_average    float64\n",
       "year              int64\n",
       "month             int64\n",
       "genre_ids        object\n",
       "budget          float64\n",
       "revenue         float64\n",
       "runtime           int64\n",
       "director_id       int64\n",
       "dtype: object"
      ]
     },
     "execution_count": 7,
     "metadata": {},
     "output_type": "execute_result"
    }
   ],
   "source": [
    "movie_data.dtypes"
   ]
  },
  {
   "cell_type": "code",
   "execution_count": 8,
   "id": "c0f6fe97-5e69-48c6-9130-3b3370265bd7",
   "metadata": {},
   "outputs": [
    {
     "name": "stdout",
     "output_type": "stream",
     "text": [
      "Number of unique numbers in the 'director_id' column: 2599\n"
     ]
    }
   ],
   "source": [
    "# Find number of unique directors\n",
    "print(f\"Number of unique numbers in the 'director_id' column: {movie_data['director_id'].nunique()}\")"
   ]
  },
  {
   "cell_type": "code",
   "execution_count": 9,
   "id": "fc055d8d-cce2-4b3e-8fab-b92c70bc673a",
   "metadata": {},
   "outputs": [
    {
     "name": "stdout",
     "output_type": "stream",
     "text": [
      "Number of unique numbers in the 'genre' column: 19\n"
     ]
    }
   ],
   "source": [
    "# Convert string representations of lists to actual lists of integers\n",
    "movie_data['genre_ids'] = movie_data['genre_ids'].apply(lambda x: ast.literal_eval(x))\n",
    "\n",
    "# Flatten the list of lists into a single list\n",
    "flattened_list = [number for sublist in movie_data['genre_ids'] for number in sublist]\n",
    "\n",
    "# Convert the flattened list into a set to find unique numbers\n",
    "unique_genres = set(flattened_list)\n",
    "\n",
    "# Count the number of unique elements\n",
    "unique_count = len(unique_genres)\n",
    "\n",
    "print(f\"Number of unique numbers in the 'genre' column: {unique_count}\")"
   ]
  },
  {
   "cell_type": "code",
   "execution_count": 10,
   "id": "ac2f7ea0-8947-4921-a361-fcc7101ec9e6",
   "metadata": {},
   "outputs": [
    {
     "data": {
      "text/plain": [
       "{12,\n",
       " 14,\n",
       " 16,\n",
       " 18,\n",
       " 27,\n",
       " 28,\n",
       " 35,\n",
       " 36,\n",
       " 37,\n",
       " 53,\n",
       " 80,\n",
       " 99,\n",
       " 878,\n",
       " 9648,\n",
       " 10402,\n",
       " 10749,\n",
       " 10751,\n",
       " 10752,\n",
       " 10770}"
      ]
     },
     "execution_count": 10,
     "metadata": {},
     "output_type": "execute_result"
    }
   ],
   "source": [
    "unique_genres"
   ]
  },
  {
   "cell_type": "code",
   "execution_count": 11,
   "id": "3fefec10-9f78-4380-90dd-5c4b50c69396",
   "metadata": {},
   "outputs": [
    {
     "data": {
      "text/plain": [
       "year\n",
       "1960     12\n",
       "1961      9\n",
       "1962     17\n",
       "1963     14\n",
       "1964     11\n",
       "       ... \n",
       "2020    194\n",
       "2021    201\n",
       "2022    174\n",
       "2023    127\n",
       "2024      4\n",
       "Length: 65, dtype: int64"
      ]
     },
     "execution_count": 11,
     "metadata": {},
     "output_type": "execute_result"
    }
   ],
   "source": [
    "movie_data.groupby('year').size()"
   ]
  },
  {
   "cell_type": "code",
   "execution_count": 12,
   "id": "d16a758c-cc67-4412-96c8-288c7e7fe6c4",
   "metadata": {},
   "outputs": [
    {
     "data": {
      "text/html": [
       "<div>\n",
       "<style scoped>\n",
       "    .dataframe tbody tr th:only-of-type {\n",
       "        vertical-align: middle;\n",
       "    }\n",
       "\n",
       "    .dataframe tbody tr th {\n",
       "        vertical-align: top;\n",
       "    }\n",
       "\n",
       "    .dataframe thead th {\n",
       "        text-align: right;\n",
       "    }\n",
       "</style>\n",
       "<table border=\"1\" class=\"dataframe\">\n",
       "  <thead>\n",
       "    <tr style=\"text-align: right;\">\n",
       "      <th>year</th>\n",
       "      <th>1960</th>\n",
       "      <th>1961</th>\n",
       "      <th>1962</th>\n",
       "      <th>1963</th>\n",
       "      <th>1964</th>\n",
       "      <th>1965</th>\n",
       "      <th>1966</th>\n",
       "      <th>1967</th>\n",
       "      <th>1968</th>\n",
       "      <th>1969</th>\n",
       "      <th>...</th>\n",
       "      <th>2015</th>\n",
       "      <th>2016</th>\n",
       "      <th>2017</th>\n",
       "      <th>2018</th>\n",
       "      <th>2019</th>\n",
       "      <th>2020</th>\n",
       "      <th>2021</th>\n",
       "      <th>2022</th>\n",
       "      <th>2023</th>\n",
       "      <th>2024</th>\n",
       "    </tr>\n",
       "  </thead>\n",
       "  <tbody>\n",
       "    <tr>\n",
       "      <th>budget</th>\n",
       "      <td>6</td>\n",
       "      <td>3</td>\n",
       "      <td>7</td>\n",
       "      <td>4</td>\n",
       "      <td>2</td>\n",
       "      <td>0</td>\n",
       "      <td>4</td>\n",
       "      <td>5</td>\n",
       "      <td>4</td>\n",
       "      <td>2</td>\n",
       "      <td>...</td>\n",
       "      <td>62</td>\n",
       "      <td>63</td>\n",
       "      <td>90</td>\n",
       "      <td>115</td>\n",
       "      <td>84</td>\n",
       "      <td>114</td>\n",
       "      <td>92</td>\n",
       "      <td>66</td>\n",
       "      <td>36</td>\n",
       "      <td>2</td>\n",
       "    </tr>\n",
       "    <tr>\n",
       "      <th>revenue</th>\n",
       "      <td>3</td>\n",
       "      <td>2</td>\n",
       "      <td>8</td>\n",
       "      <td>4</td>\n",
       "      <td>3</td>\n",
       "      <td>3</td>\n",
       "      <td>3</td>\n",
       "      <td>5</td>\n",
       "      <td>4</td>\n",
       "      <td>2</td>\n",
       "      <td>...</td>\n",
       "      <td>38</td>\n",
       "      <td>48</td>\n",
       "      <td>74</td>\n",
       "      <td>88</td>\n",
       "      <td>80</td>\n",
       "      <td>95</td>\n",
       "      <td>80</td>\n",
       "      <td>68</td>\n",
       "      <td>38</td>\n",
       "      <td>2</td>\n",
       "    </tr>\n",
       "  </tbody>\n",
       "</table>\n",
       "<p>2 rows × 65 columns</p>\n",
       "</div>"
      ],
      "text/plain": [
       "year     1960  1961  1962  1963  1964  1965  1966  1967  1968  1969  ...  \\\n",
       "budget      6     3     7     4     2     0     4     5     4     2  ...   \n",
       "revenue     3     2     8     4     3     3     3     5     4     2  ...   \n",
       "\n",
       "year     2015  2016  2017  2018  2019  2020  2021  2022  2023  2024  \n",
       "budget     62    63    90   115    84   114    92    66    36     2  \n",
       "revenue    38    48    74    88    80    95    80    68    38     2  \n",
       "\n",
       "[2 rows x 65 columns]"
      ]
     },
     "execution_count": 12,
     "metadata": {},
     "output_type": "execute_result"
    }
   ],
   "source": [
    "null_values = movie_data.groupby('year').agg(lambda x: x.isna().sum())\n",
    "null_values_series = null_values[['budget', 'revenue']].T\n",
    "null_values_series"
   ]
  },
  {
   "cell_type": "code",
   "execution_count": 13,
   "id": "1ff4b79f-ef33-4f2b-a6c6-2e1e910162a8",
   "metadata": {},
   "outputs": [
    {
     "data": {
      "text/plain": [
       "year\n",
       "1960      6\n",
       "1961      3\n",
       "1962      7\n",
       "1963      4\n",
       "1964      2\n",
       "       ... \n",
       "2020    114\n",
       "2021     92\n",
       "2022     66\n",
       "2023     36\n",
       "2024      2\n",
       "Name: budget, Length: 65, dtype: int64"
      ]
     },
     "execution_count": 13,
     "metadata": {},
     "output_type": "execute_result"
    }
   ],
   "source": [
    "null_values_series.loc['budget']"
   ]
  },
  {
   "cell_type": "code",
   "execution_count": 14,
   "id": "3d38172f-8249-4e93-a9ed-fc581be26b7a",
   "metadata": {},
   "outputs": [
    {
     "data": {
      "image/png": "[encoded data removed]",
      "text/plain": [
       "<Figure size 640x480 with 1 Axes>"
      ]
     },
     "metadata": {},
     "output_type": "display_data"
    }
   ],
   "source": [
    "null_values_series.loc['budget'].plot(x='year',\n",
    "                        y='budget',\n",
    "                        kind='line')\n",
    "\n",
    "null_values_series.loc['revenue'].plot(x='year',\n",
    "                        y='revenue',\n",
    "                        kind='line',\n",
    "                        title='Missing values for budget/revenue')\n",
    "\n",
    "plt.legend(['Budget', 'Revenue'])\n",
    "plt.show()"
   ]
  },
  {
   "cell_type": "code",
   "execution_count": 15,
   "id": "10beccf3-3b12-42d0-823c-13508b529b57",
   "metadata": {},
   "outputs": [],
   "source": [
    "kaggle_movies = pd.read_csv('data/kaggle_movies.csv')"
   ]
  },
  {
   "cell_type": "code",
   "execution_count": 16,
   "id": "9b3169a8-8f60-4f84-8e6d-59bda0f80503",
   "metadata": {
    "scrolled": true
   },
   "outputs": [
    {
     "data": {
      "text/html": [
       "<div>\n",
       "<style scoped>\n",
       "    .dataframe tbody tr th:only-of-type {\n",
       "        vertical-align: middle;\n",
       "    }\n",
       "\n",
       "    .dataframe tbody tr th {\n",
       "        vertical-align: top;\n",
       "    }\n",
       "\n",
       "    .dataframe thead th {\n",
       "        text-align: right;\n",
       "    }\n",
       "</style>\n",
       "<table border=\"1\" class=\"dataframe\">\n",
       "  <thead>\n",
       "    <tr style=\"text-align: right;\">\n",
       "      <th></th>\n",
       "      <th>name</th>\n",
       "      <th>rating</th>\n",
       "      <th>genre</th>\n",
       "      <th>year</th>\n",
       "      <th>released</th>\n",
       "      <th>score</th>\n",
       "      <th>votes</th>\n",
       "      <th>director</th>\n",
       "      <th>writer</th>\n",
       "      <th>star</th>\n",
       "      <th>country</th>\n",
       "      <th>budget</th>\n",
       "      <th>gross</th>\n",
       "      <th>company</th>\n",
       "      <th>runtime</th>\n",
       "    </tr>\n",
       "  </thead>\n",
       "  <tbody>\n",
       "    <tr>\n",
       "      <th>0</th>\n",
       "      <td>The Shining</td>\n",
       "      <td>R</td>\n",
       "      <td>Drama</td>\n",
       "      <td>1980</td>\n",
       "      <td>June 13, 1980 (United States)</td>\n",
       "      <td>8.4</td>\n",
       "      <td>927000.0</td>\n",
       "      <td>Stanley Kubrick</td>\n",
       "      <td>Stephen King</td>\n",
       "      <td>Jack Nicholson</td>\n",
       "      <td>United Kingdom</td>\n",
       "      <td>19000000.0</td>\n",
       "      <td>46998772.0</td>\n",
       "      <td>Warner Bros.</td>\n",
       "      <td>146.0</td>\n",
       "    </tr>\n",
       "    <tr>\n",
       "      <th>1</th>\n",
       "      <td>The Blue Lagoon</td>\n",
       "      <td>R</td>\n",
       "      <td>Adventure</td>\n",
       "      <td>1980</td>\n",
       "      <td>July 2, 1980 (United States)</td>\n",
       "      <td>5.8</td>\n",
       "      <td>65000.0</td>\n",
       "      <td>Randal Kleiser</td>\n",
       "      <td>Henry De Vere Stacpoole</td>\n",
       "      <td>Brooke Shields</td>\n",
       "      <td>United States</td>\n",
       "      <td>4500000.0</td>\n",
       "      <td>58853106.0</td>\n",
       "      <td>Columbia Pictures</td>\n",
       "      <td>104.0</td>\n",
       "    </tr>\n",
       "    <tr>\n",
       "      <th>2</th>\n",
       "      <td>Star Wars: Episode V - The Empire Strikes Back</td>\n",
       "      <td>PG</td>\n",
       "      <td>Action</td>\n",
       "      <td>1980</td>\n",
       "      <td>June 20, 1980 (United States)</td>\n",
       "      <td>8.7</td>\n",
       "      <td>1200000.0</td>\n",
       "      <td>Irvin Kershner</td>\n",
       "      <td>Leigh Brackett</td>\n",
       "      <td>Mark Hamill</td>\n",
       "      <td>United States</td>\n",
       "      <td>18000000.0</td>\n",
       "      <td>538375067.0</td>\n",
       "      <td>Lucasfilm</td>\n",
       "      <td>124.0</td>\n",
       "    </tr>\n",
       "    <tr>\n",
       "      <th>3</th>\n",
       "      <td>Airplane!</td>\n",
       "      <td>PG</td>\n",
       "      <td>Comedy</td>\n",
       "      <td>1980</td>\n",
       "      <td>July 2, 1980 (United States)</td>\n",
       "      <td>7.7</td>\n",
       "      <td>221000.0</td>\n",
       "      <td>Jim Abrahams</td>\n",
       "      <td>Jim Abrahams</td>\n",
       "      <td>Robert Hays</td>\n",
       "      <td>United States</td>\n",
       "      <td>3500000.0</td>\n",
       "      <td>83453539.0</td>\n",
       "      <td>Paramount Pictures</td>\n",
       "      <td>88.0</td>\n",
       "    </tr>\n",
       "    <tr>\n",
       "      <th>4</th>\n",
       "      <td>Caddyshack</td>\n",
       "      <td>R</td>\n",
       "      <td>Comedy</td>\n",
       "      <td>1980</td>\n",
       "      <td>July 25, 1980 (United States)</td>\n",
       "      <td>7.3</td>\n",
       "      <td>108000.0</td>\n",
       "      <td>Harold Ramis</td>\n",
       "      <td>Brian Doyle-Murray</td>\n",
       "      <td>Chevy Chase</td>\n",
       "      <td>United States</td>\n",
       "      <td>6000000.0</td>\n",
       "      <td>39846344.0</td>\n",
       "      <td>Orion Pictures</td>\n",
       "      <td>98.0</td>\n",
       "    </tr>\n",
       "  </tbody>\n",
       "</table>\n",
       "</div>"
      ],
      "text/plain": [
       "                                             name rating      genre  year  \\\n",
       "0                                     The Shining      R      Drama  1980   \n",
       "1                                 The Blue Lagoon      R  Adventure  1980   \n",
       "2  Star Wars: Episode V - The Empire Strikes Back     PG     Action  1980   \n",
       "3                                       Airplane!     PG     Comedy  1980   \n",
       "4                                      Caddyshack      R     Comedy  1980   \n",
       "\n",
       "                        released  score      votes         director  \\\n",
       "0  June 13, 1980 (United States)    8.4   927000.0  Stanley Kubrick   \n",
       "1   July 2, 1980 (United States)    5.8    65000.0   Randal Kleiser   \n",
       "2  June 20, 1980 (United States)    8.7  1200000.0   Irvin Kershner   \n",
       "3   July 2, 1980 (United States)    7.7   221000.0     Jim Abrahams   \n",
       "4  July 25, 1980 (United States)    7.3   108000.0     Harold Ramis   \n",
       "\n",
       "                    writer            star         country      budget  \\\n",
       "0             Stephen King  Jack Nicholson  United Kingdom  19000000.0   \n",
       "1  Henry De Vere Stacpoole  Brooke Shields   United States   4500000.0   \n",
       "2           Leigh Brackett     Mark Hamill   United States  18000000.0   \n",
       "3             Jim Abrahams     Robert Hays   United States   3500000.0   \n",
       "4       Brian Doyle-Murray     Chevy Chase   United States   6000000.0   \n",
       "\n",
       "         gross             company  runtime  \n",
       "0   46998772.0        Warner Bros.    146.0  \n",
       "1   58853106.0   Columbia Pictures    104.0  \n",
       "2  538375067.0           Lucasfilm    124.0  \n",
       "3   83453539.0  Paramount Pictures     88.0  \n",
       "4   39846344.0      Orion Pictures     98.0  "
      ]
     },
     "execution_count": 16,
     "metadata": {},
     "output_type": "execute_result"
    }
   ],
   "source": [
    "kaggle_movies.head()"
   ]
  },
  {
   "cell_type": "code",
   "execution_count": 17,
   "id": "98baf420-b987-49e0-b7fc-9bf0c28afd75",
   "metadata": {},
   "outputs": [
    {
     "data": {
      "text/plain": [
       "id                int64\n",
       "title            object\n",
       "vote_average    float64\n",
       "year              int64\n",
       "month             int64\n",
       "genre_ids        object\n",
       "budget          float64\n",
       "revenue         float64\n",
       "runtime           int64\n",
       "director_id       int64\n",
       "dtype: object"
      ]
     },
     "execution_count": 17,
     "metadata": {},
     "output_type": "execute_result"
    }
   ],
   "source": [
    "movie_data.dtypes"
   ]
  },
  {
   "cell_type": "code",
   "execution_count": 18,
   "id": "e0b22498-a4ed-45a5-8119-6e39243f434d",
   "metadata": {},
   "outputs": [
    {
     "data": {
      "text/plain": [
       "name         object\n",
       "rating       object\n",
       "genre        object\n",
       "year          int64\n",
       "released     object\n",
       "score       float64\n",
       "votes       float64\n",
       "director     object\n",
       "writer       object\n",
       "star         object\n",
       "country      object\n",
       "budget      float64\n",
       "gross       float64\n",
       "company      object\n",
       "runtime     float64\n",
       "dtype: object"
      ]
     },
     "execution_count": 18,
     "metadata": {},
     "output_type": "execute_result"
    }
   ],
   "source": [
    "kaggle_movies.dtypes"
   ]
  },
  {
   "cell_type": "code",
   "execution_count": 19,
   "id": "16e81d6d-b6fb-4975-bbb2-6781cdb6086d",
   "metadata": {},
   "outputs": [],
   "source": [
    "kaggle_movies = kaggle_movies.rename(columns={'name': 'title', 'budget': 'kag_budget', 'gross': 'kag_revenue'})"
   ]
  },
  {
   "cell_type": "code",
   "execution_count": 20,
   "id": "7ed7c3b7-79aa-4312-95ae-3cbe59fdf3ee",
   "metadata": {
    "scrolled": true
   },
   "outputs": [
    {
     "data": {
      "text/html": [
       "<div>\n",
       "<style scoped>\n",
       "    .dataframe tbody tr th:only-of-type {\n",
       "        vertical-align: middle;\n",
       "    }\n",
       "\n",
       "    .dataframe tbody tr th {\n",
       "        vertical-align: top;\n",
       "    }\n",
       "\n",
       "    .dataframe thead th {\n",
       "        text-align: right;\n",
       "    }\n",
       "</style>\n",
       "<table border=\"1\" class=\"dataframe\">\n",
       "  <thead>\n",
       "    <tr style=\"text-align: right;\">\n",
       "      <th></th>\n",
       "      <th>title</th>\n",
       "      <th>year</th>\n",
       "      <th>kag_budget</th>\n",
       "      <th>kag_revenue</th>\n",
       "    </tr>\n",
       "  </thead>\n",
       "  <tbody>\n",
       "    <tr>\n",
       "      <th>0</th>\n",
       "      <td>The Shining</td>\n",
       "      <td>1980</td>\n",
       "      <td>19000000.0</td>\n",
       "      <td>46998772.0</td>\n",
       "    </tr>\n",
       "    <tr>\n",
       "      <th>1</th>\n",
       "      <td>The Blue Lagoon</td>\n",
       "      <td>1980</td>\n",
       "      <td>4500000.0</td>\n",
       "      <td>58853106.0</td>\n",
       "    </tr>\n",
       "    <tr>\n",
       "      <th>2</th>\n",
       "      <td>Star Wars: Episode V - The Empire Strikes Back</td>\n",
       "      <td>1980</td>\n",
       "      <td>18000000.0</td>\n",
       "      <td>538375067.0</td>\n",
       "    </tr>\n",
       "    <tr>\n",
       "      <th>3</th>\n",
       "      <td>Airplane!</td>\n",
       "      <td>1980</td>\n",
       "      <td>3500000.0</td>\n",
       "      <td>83453539.0</td>\n",
       "    </tr>\n",
       "    <tr>\n",
       "      <th>4</th>\n",
       "      <td>Caddyshack</td>\n",
       "      <td>1980</td>\n",
       "      <td>6000000.0</td>\n",
       "      <td>39846344.0</td>\n",
       "    </tr>\n",
       "    <tr>\n",
       "      <th>...</th>\n",
       "      <td>...</td>\n",
       "      <td>...</td>\n",
       "      <td>...</td>\n",
       "      <td>...</td>\n",
       "    </tr>\n",
       "    <tr>\n",
       "      <th>7663</th>\n",
       "      <td>More to Life</td>\n",
       "      <td>2020</td>\n",
       "      <td>7000.0</td>\n",
       "      <td>NaN</td>\n",
       "    </tr>\n",
       "    <tr>\n",
       "      <th>7664</th>\n",
       "      <td>Dream Round</td>\n",
       "      <td>2020</td>\n",
       "      <td>NaN</td>\n",
       "      <td>NaN</td>\n",
       "    </tr>\n",
       "    <tr>\n",
       "      <th>7665</th>\n",
       "      <td>Saving Mbango</td>\n",
       "      <td>2020</td>\n",
       "      <td>58750.0</td>\n",
       "      <td>NaN</td>\n",
       "    </tr>\n",
       "    <tr>\n",
       "      <th>7666</th>\n",
       "      <td>It's Just Us</td>\n",
       "      <td>2020</td>\n",
       "      <td>15000.0</td>\n",
       "      <td>NaN</td>\n",
       "    </tr>\n",
       "    <tr>\n",
       "      <th>7667</th>\n",
       "      <td>Tee em el</td>\n",
       "      <td>2020</td>\n",
       "      <td>NaN</td>\n",
       "      <td>NaN</td>\n",
       "    </tr>\n",
       "  </tbody>\n",
       "</table>\n",
       "<p>7668 rows × 4 columns</p>\n",
       "</div>"
      ],
      "text/plain": [
       "                                               title  year  kag_budget  \\\n",
       "0                                        The Shining  1980  19000000.0   \n",
       "1                                    The Blue Lagoon  1980   4500000.0   \n",
       "2     Star Wars: Episode V - The Empire Strikes Back  1980  18000000.0   \n",
       "3                                          Airplane!  1980   3500000.0   \n",
       "4                                         Caddyshack  1980   6000000.0   \n",
       "...                                              ...   ...         ...   \n",
       "7663                                    More to Life  2020      7000.0   \n",
       "7664                                     Dream Round  2020         NaN   \n",
       "7665                                   Saving Mbango  2020     58750.0   \n",
       "7666                                    It's Just Us  2020     15000.0   \n",
       "7667                                       Tee em el  2020         NaN   \n",
       "\n",
       "      kag_revenue  \n",
       "0      46998772.0  \n",
       "1      58853106.0  \n",
       "2     538375067.0  \n",
       "3      83453539.0  \n",
       "4      39846344.0  \n",
       "...           ...  \n",
       "7663          NaN  \n",
       "7664          NaN  \n",
       "7665          NaN  \n",
       "7666          NaN  \n",
       "7667          NaN  \n",
       "\n",
       "[7668 rows x 4 columns]"
      ]
     },
     "execution_count": 20,
     "metadata": {},
     "output_type": "execute_result"
    }
   ],
   "source": [
    "kaggle_merge = kaggle_movies[['title','year','kag_budget','kag_revenue']]\n",
    "kaggle_merge"
   ]
  },
  {
   "cell_type": "code",
   "execution_count": 21,
   "id": "b2908a9d-ae07-4f08-9ee7-34dfa55af718",
   "metadata": {},
   "outputs": [],
   "source": [
    "movie_data = movie_data.merge(kaggle_merge, how='left', on=['title', 'year'])"
   ]
  },
  {
   "cell_type": "code",
   "execution_count": 22,
   "id": "23fc6c87-b35e-4134-a0a2-c30d0b14033d",
   "metadata": {
    "scrolled": true
   },
   "outputs": [
    {
     "data": {
      "text/html": [
       "<div>\n",
       "<style scoped>\n",
       "    .dataframe tbody tr th:only-of-type {\n",
       "        vertical-align: middle;\n",
       "    }\n",
       "\n",
       "    .dataframe tbody tr th {\n",
       "        vertical-align: top;\n",
       "    }\n",
       "\n",
       "    .dataframe thead th {\n",
       "        text-align: right;\n",
       "    }\n",
       "</style>\n",
       "<table border=\"1\" class=\"dataframe\">\n",
       "  <thead>\n",
       "    <tr style=\"text-align: right;\">\n",
       "      <th></th>\n",
       "      <th>id</th>\n",
       "      <th>title</th>\n",
       "      <th>vote_average</th>\n",
       "      <th>year</th>\n",
       "      <th>month</th>\n",
       "      <th>genre_ids</th>\n",
       "      <th>budget</th>\n",
       "      <th>revenue</th>\n",
       "      <th>runtime</th>\n",
       "      <th>director_id</th>\n",
       "      <th>kag_budget</th>\n",
       "      <th>kag_revenue</th>\n",
       "    </tr>\n",
       "  </thead>\n",
       "  <tbody>\n",
       "    <tr>\n",
       "      <th>0</th>\n",
       "      <td>539</td>\n",
       "      <td>Psycho</td>\n",
       "      <td>8.434</td>\n",
       "      <td>1960</td>\n",
       "      <td>6</td>\n",
       "      <td>[27, 53, 9648]</td>\n",
       "      <td>806947.0</td>\n",
       "      <td>32000000.0</td>\n",
       "      <td>109</td>\n",
       "      <td>2636</td>\n",
       "      <td>NaN</td>\n",
       "      <td>NaN</td>\n",
       "    </tr>\n",
       "    <tr>\n",
       "      <th>1</th>\n",
       "      <td>967</td>\n",
       "      <td>Spartacus</td>\n",
       "      <td>7.500</td>\n",
       "      <td>1960</td>\n",
       "      <td>10</td>\n",
       "      <td>[36, 10752, 18, 12]</td>\n",
       "      <td>12000000.0</td>\n",
       "      <td>60000000.0</td>\n",
       "      <td>197</td>\n",
       "      <td>240</td>\n",
       "      <td>NaN</td>\n",
       "      <td>NaN</td>\n",
       "    </tr>\n",
       "    <tr>\n",
       "      <th>2</th>\n",
       "      <td>966</td>\n",
       "      <td>The Magnificent Seven</td>\n",
       "      <td>7.500</td>\n",
       "      <td>1960</td>\n",
       "      <td>10</td>\n",
       "      <td>[37, 28, 12]</td>\n",
       "      <td>2000000.0</td>\n",
       "      <td>4905000.0</td>\n",
       "      <td>127</td>\n",
       "      <td>14520</td>\n",
       "      <td>NaN</td>\n",
       "      <td>NaN</td>\n",
       "    </tr>\n",
       "    <tr>\n",
       "      <th>3</th>\n",
       "      <td>284</td>\n",
       "      <td>The Apartment</td>\n",
       "      <td>8.214</td>\n",
       "      <td>1960</td>\n",
       "      <td>6</td>\n",
       "      <td>[35, 18, 10749]</td>\n",
       "      <td>3000000.0</td>\n",
       "      <td>25000000.0</td>\n",
       "      <td>125</td>\n",
       "      <td>3146</td>\n",
       "      <td>NaN</td>\n",
       "      <td>NaN</td>\n",
       "    </tr>\n",
       "    <tr>\n",
       "      <th>4</th>\n",
       "      <td>439</td>\n",
       "      <td>La Dolce Vita</td>\n",
       "      <td>8.121</td>\n",
       "      <td>1960</td>\n",
       "      <td>2</td>\n",
       "      <td>[35, 18]</td>\n",
       "      <td>NaN</td>\n",
       "      <td>19647000.0</td>\n",
       "      <td>176</td>\n",
       "      <td>4415</td>\n",
       "      <td>NaN</td>\n",
       "      <td>NaN</td>\n",
       "    </tr>\n",
       "    <tr>\n",
       "      <th>...</th>\n",
       "      <td>...</td>\n",
       "      <td>...</td>\n",
       "      <td>...</td>\n",
       "      <td>...</td>\n",
       "      <td>...</td>\n",
       "      <td>...</td>\n",
       "      <td>...</td>\n",
       "      <td>...</td>\n",
       "      <td>...</td>\n",
       "      <td>...</td>\n",
       "      <td>...</td>\n",
       "      <td>...</td>\n",
       "    </tr>\n",
       "    <tr>\n",
       "      <th>6416</th>\n",
       "      <td>1026227</td>\n",
       "      <td>There's Still Tomorrow</td>\n",
       "      <td>8.295</td>\n",
       "      <td>2023</td>\n",
       "      <td>10</td>\n",
       "      <td>[35, 18]</td>\n",
       "      <td>9000000.0</td>\n",
       "      <td>38825277.0</td>\n",
       "      <td>118</td>\n",
       "      <td>133214</td>\n",
       "      <td>NaN</td>\n",
       "      <td>NaN</td>\n",
       "    </tr>\n",
       "    <tr>\n",
       "      <th>6417</th>\n",
       "      <td>693134</td>\n",
       "      <td>Dune: Part Two</td>\n",
       "      <td>8.549</td>\n",
       "      <td>2024</td>\n",
       "      <td>2</td>\n",
       "      <td>[28, 12, 878]</td>\n",
       "      <td>190000000.0</td>\n",
       "      <td>178000000.0</td>\n",
       "      <td>166</td>\n",
       "      <td>137427</td>\n",
       "      <td>NaN</td>\n",
       "      <td>NaN</td>\n",
       "    </tr>\n",
       "    <tr>\n",
       "      <th>6418</th>\n",
       "      <td>933131</td>\n",
       "      <td>Badland Hunters</td>\n",
       "      <td>6.800</td>\n",
       "      <td>2024</td>\n",
       "      <td>1</td>\n",
       "      <td>[878, 28, 18]</td>\n",
       "      <td>NaN</td>\n",
       "      <td>NaN</td>\n",
       "      <td>107</td>\n",
       "      <td>2879867</td>\n",
       "      <td>NaN</td>\n",
       "      <td>NaN</td>\n",
       "    </tr>\n",
       "    <tr>\n",
       "      <th>6419</th>\n",
       "      <td>866398</td>\n",
       "      <td>The Beekeeper</td>\n",
       "      <td>7.400</td>\n",
       "      <td>2024</td>\n",
       "      <td>1</td>\n",
       "      <td>[28, 53, 18]</td>\n",
       "      <td>35000000.0</td>\n",
       "      <td>149645000.0</td>\n",
       "      <td>105</td>\n",
       "      <td>19769</td>\n",
       "      <td>NaN</td>\n",
       "      <td>NaN</td>\n",
       "    </tr>\n",
       "    <tr>\n",
       "      <th>6420</th>\n",
       "      <td>955916</td>\n",
       "      <td>Lift</td>\n",
       "      <td>6.600</td>\n",
       "      <td>2024</td>\n",
       "      <td>1</td>\n",
       "      <td>[28, 35, 80]</td>\n",
       "      <td>NaN</td>\n",
       "      <td>NaN</td>\n",
       "      <td>107</td>\n",
       "      <td>37932</td>\n",
       "      <td>NaN</td>\n",
       "      <td>NaN</td>\n",
       "    </tr>\n",
       "  </tbody>\n",
       "</table>\n",
       "<p>6421 rows × 12 columns</p>\n",
       "</div>"
      ],
      "text/plain": [
       "           id                   title  vote_average  year  month  \\\n",
       "0         539                  Psycho         8.434  1960      6   \n",
       "1         967               Spartacus         7.500  1960     10   \n",
       "2         966   The Magnificent Seven         7.500  1960     10   \n",
       "3         284           The Apartment         8.214  1960      6   \n",
       "4         439           La Dolce Vita         8.121  1960      2   \n",
       "...       ...                     ...           ...   ...    ...   \n",
       "6416  1026227  There's Still Tomorrow         8.295  2023     10   \n",
       "6417   693134          Dune: Part Two         8.549  2024      2   \n",
       "6418   933131         Badland Hunters         6.800  2024      1   \n",
       "6419   866398           The Beekeeper         7.400  2024      1   \n",
       "6420   955916                    Lift         6.600  2024      1   \n",
       "\n",
       "                genre_ids       budget      revenue  runtime  director_id  \\\n",
       "0          [27, 53, 9648]     806947.0   32000000.0      109         2636   \n",
       "1     [36, 10752, 18, 12]   12000000.0   60000000.0      197          240   \n",
       "2            [37, 28, 12]    2000000.0    4905000.0      127        14520   \n",
       "3         [35, 18, 10749]    3000000.0   25000000.0      125         3146   \n",
       "4                [35, 18]          NaN   19647000.0      176         4415   \n",
       "...                   ...          ...          ...      ...          ...   \n",
       "6416             [35, 18]    9000000.0   38825277.0      118       133214   \n",
       "6417        [28, 12, 878]  190000000.0  178000000.0      166       137427   \n",
       "6418        [878, 28, 18]          NaN          NaN      107      2879867   \n",
       "6419         [28, 53, 18]   35000000.0  149645000.0      105        19769   \n",
       "6420         [28, 35, 80]          NaN          NaN      107        37932   \n",
       "\n",
       "      kag_budget  kag_revenue  \n",
       "0            NaN          NaN  \n",
       "1            NaN          NaN  \n",
       "2            NaN          NaN  \n",
       "3            NaN          NaN  \n",
       "4            NaN          NaN  \n",
       "...          ...          ...  \n",
       "6416         NaN          NaN  \n",
       "6417         NaN          NaN  \n",
       "6418         NaN          NaN  \n",
       "6419         NaN          NaN  \n",
       "6420         NaN          NaN  \n",
       "\n",
       "[6421 rows x 12 columns]"
      ]
     },
     "execution_count": 22,
     "metadata": {},
     "output_type": "execute_result"
    }
   ],
   "source": [
    "movie_data"
   ]
  },
  {
   "cell_type": "code",
   "execution_count": 23,
   "id": "6699d06a-cc04-4c6a-a308-ea0a8593b803",
   "metadata": {},
   "outputs": [
    {
     "data": {
      "text/plain": [
       "id                 0\n",
       "title              0\n",
       "vote_average       0\n",
       "year               0\n",
       "month              0\n",
       "genre_ids          0\n",
       "budget          1340\n",
       "revenue         1106\n",
       "runtime            0\n",
       "director_id        0\n",
       "kag_budget      2940\n",
       "kag_revenue     2505\n",
       "dtype: int64"
      ]
     },
     "execution_count": 23,
     "metadata": {},
     "output_type": "execute_result"
    }
   ],
   "source": [
    "movie_data.isna().sum()"
   ]
  },
  {
   "cell_type": "code",
   "execution_count": 24,
   "id": "eb0a4299-c6ac-45f9-9dad-7290f9dfa42f",
   "metadata": {},
   "outputs": [],
   "source": [
    "movie_data.loc[movie_data['budget'].isna() & ~movie_data['kag_budget'].isna(), 'budget'] = movie_data.loc[movie_data['budget'].isna() & ~movie_data['kag_budget'].isna(), 'kag_budget']\n",
    "movie_data.loc[movie_data['revenue'].isna() & ~movie_data['kag_revenue'].isna(), 'revenue'] = movie_data.loc[movie_data['revenue'].isna() & ~movie_data['kag_revenue'].isna(), 'kag_revenue']"
   ]
  },
  {
   "cell_type": "code",
   "execution_count": 25,
   "id": "589cdda5-9ccc-4b8d-9ab8-bd63dd893255",
   "metadata": {},
   "outputs": [],
   "source": [
    "movie_data.drop(columns=['kag_budget', 'kag_revenue'], inplace=True)"
   ]
  },
  {
   "cell_type": "code",
   "execution_count": 26,
   "id": "dd1b9edd-a4c2-4da5-b623-dd01c66d9f8d",
   "metadata": {},
   "outputs": [
    {
     "data": {
      "text/plain": [
       "id                 0\n",
       "title              0\n",
       "vote_average       0\n",
       "year               0\n",
       "month              0\n",
       "genre_ids          0\n",
       "budget          1283\n",
       "revenue         1002\n",
       "runtime            0\n",
       "director_id        0\n",
       "dtype: int64"
      ]
     },
     "execution_count": 26,
     "metadata": {},
     "output_type": "execute_result"
    }
   ],
   "source": [
    "movie_data.isna().sum()"
   ]
  },
  {
   "cell_type": "markdown",
   "id": "6184061b-b70a-4a23-b9ae-ad8fa13a2cb7",
   "metadata": {},
   "source": [
    "Filled in a few missing values, but not many."
   ]
  },
  {
   "cell_type": "code",
   "execution_count": 27,
   "id": "76ff21c6-fc7d-4fe9-8639-4d473fb125af",
   "metadata": {},
   "outputs": [
    {
     "data": {
      "text/html": [
       "<div>\n",
       "<style scoped>\n",
       "    .dataframe tbody tr th:only-of-type {\n",
       "        vertical-align: middle;\n",
       "    }\n",
       "\n",
       "    .dataframe tbody tr th {\n",
       "        vertical-align: top;\n",
       "    }\n",
       "\n",
       "    .dataframe thead th {\n",
       "        text-align: right;\n",
       "    }\n",
       "</style>\n",
       "<table border=\"1\" class=\"dataframe\">\n",
       "  <thead>\n",
       "    <tr style=\"text-align: right;\">\n",
       "      <th></th>\n",
       "      <th>id</th>\n",
       "      <th>title</th>\n",
       "      <th>vote_average</th>\n",
       "      <th>year</th>\n",
       "      <th>month</th>\n",
       "      <th>genre_ids</th>\n",
       "      <th>budget</th>\n",
       "      <th>revenue</th>\n",
       "      <th>runtime</th>\n",
       "      <th>director_id</th>\n",
       "    </tr>\n",
       "  </thead>\n",
       "  <tbody>\n",
       "    <tr>\n",
       "      <th>0</th>\n",
       "      <td>539</td>\n",
       "      <td>Psycho</td>\n",
       "      <td>8.434</td>\n",
       "      <td>1960</td>\n",
       "      <td>6</td>\n",
       "      <td>[27, 53, 9648]</td>\n",
       "      <td>806947.0</td>\n",
       "      <td>32000000.0</td>\n",
       "      <td>109</td>\n",
       "      <td>2636</td>\n",
       "    </tr>\n",
       "    <tr>\n",
       "      <th>1</th>\n",
       "      <td>967</td>\n",
       "      <td>Spartacus</td>\n",
       "      <td>7.500</td>\n",
       "      <td>1960</td>\n",
       "      <td>10</td>\n",
       "      <td>[36, 10752, 18, 12]</td>\n",
       "      <td>12000000.0</td>\n",
       "      <td>60000000.0</td>\n",
       "      <td>197</td>\n",
       "      <td>240</td>\n",
       "    </tr>\n",
       "    <tr>\n",
       "      <th>2</th>\n",
       "      <td>966</td>\n",
       "      <td>The Magnificent Seven</td>\n",
       "      <td>7.500</td>\n",
       "      <td>1960</td>\n",
       "      <td>10</td>\n",
       "      <td>[37, 28, 12]</td>\n",
       "      <td>2000000.0</td>\n",
       "      <td>4905000.0</td>\n",
       "      <td>127</td>\n",
       "      <td>14520</td>\n",
       "    </tr>\n",
       "    <tr>\n",
       "      <th>3</th>\n",
       "      <td>284</td>\n",
       "      <td>The Apartment</td>\n",
       "      <td>8.214</td>\n",
       "      <td>1960</td>\n",
       "      <td>6</td>\n",
       "      <td>[35, 18, 10749]</td>\n",
       "      <td>3000000.0</td>\n",
       "      <td>25000000.0</td>\n",
       "      <td>125</td>\n",
       "      <td>3146</td>\n",
       "    </tr>\n",
       "    <tr>\n",
       "      <th>4</th>\n",
       "      <td>439</td>\n",
       "      <td>La Dolce Vita</td>\n",
       "      <td>8.121</td>\n",
       "      <td>1960</td>\n",
       "      <td>2</td>\n",
       "      <td>[35, 18]</td>\n",
       "      <td>NaN</td>\n",
       "      <td>19647000.0</td>\n",
       "      <td>176</td>\n",
       "      <td>4415</td>\n",
       "    </tr>\n",
       "    <tr>\n",
       "      <th>...</th>\n",
       "      <td>...</td>\n",
       "      <td>...</td>\n",
       "      <td>...</td>\n",
       "      <td>...</td>\n",
       "      <td>...</td>\n",
       "      <td>...</td>\n",
       "      <td>...</td>\n",
       "      <td>...</td>\n",
       "      <td>...</td>\n",
       "      <td>...</td>\n",
       "    </tr>\n",
       "    <tr>\n",
       "      <th>6416</th>\n",
       "      <td>1026227</td>\n",
       "      <td>There's Still Tomorrow</td>\n",
       "      <td>8.295</td>\n",
       "      <td>2023</td>\n",
       "      <td>10</td>\n",
       "      <td>[35, 18]</td>\n",
       "      <td>9000000.0</td>\n",
       "      <td>38825277.0</td>\n",
       "      <td>118</td>\n",
       "      <td>133214</td>\n",
       "    </tr>\n",
       "    <tr>\n",
       "      <th>6417</th>\n",
       "      <td>693134</td>\n",
       "      <td>Dune: Part Two</td>\n",
       "      <td>8.549</td>\n",
       "      <td>2024</td>\n",
       "      <td>2</td>\n",
       "      <td>[28, 12, 878]</td>\n",
       "      <td>190000000.0</td>\n",
       "      <td>178000000.0</td>\n",
       "      <td>166</td>\n",
       "      <td>137427</td>\n",
       "    </tr>\n",
       "    <tr>\n",
       "      <th>6418</th>\n",
       "      <td>933131</td>\n",
       "      <td>Badland Hunters</td>\n",
       "      <td>6.800</td>\n",
       "      <td>2024</td>\n",
       "      <td>1</td>\n",
       "      <td>[878, 28, 18]</td>\n",
       "      <td>NaN</td>\n",
       "      <td>NaN</td>\n",
       "      <td>107</td>\n",
       "      <td>2879867</td>\n",
       "    </tr>\n",
       "    <tr>\n",
       "      <th>6419</th>\n",
       "      <td>866398</td>\n",
       "      <td>The Beekeeper</td>\n",
       "      <td>7.400</td>\n",
       "      <td>2024</td>\n",
       "      <td>1</td>\n",
       "      <td>[28, 53, 18]</td>\n",
       "      <td>35000000.0</td>\n",
       "      <td>149645000.0</td>\n",
       "      <td>105</td>\n",
       "      <td>19769</td>\n",
       "    </tr>\n",
       "    <tr>\n",
       "      <th>6420</th>\n",
       "      <td>955916</td>\n",
       "      <td>Lift</td>\n",
       "      <td>6.600</td>\n",
       "      <td>2024</td>\n",
       "      <td>1</td>\n",
       "      <td>[28, 35, 80]</td>\n",
       "      <td>NaN</td>\n",
       "      <td>NaN</td>\n",
       "      <td>107</td>\n",
       "      <td>37932</td>\n",
       "    </tr>\n",
       "  </tbody>\n",
       "</table>\n",
       "<p>6421 rows × 10 columns</p>\n",
       "</div>"
      ],
      "text/plain": [
       "           id                   title  vote_average  year  month  \\\n",
       "0         539                  Psycho         8.434  1960      6   \n",
       "1         967               Spartacus         7.500  1960     10   \n",
       "2         966   The Magnificent Seven         7.500  1960     10   \n",
       "3         284           The Apartment         8.214  1960      6   \n",
       "4         439           La Dolce Vita         8.121  1960      2   \n",
       "...       ...                     ...           ...   ...    ...   \n",
       "6416  1026227  There's Still Tomorrow         8.295  2023     10   \n",
       "6417   693134          Dune: Part Two         8.549  2024      2   \n",
       "6418   933131         Badland Hunters         6.800  2024      1   \n",
       "6419   866398           The Beekeeper         7.400  2024      1   \n",
       "6420   955916                    Lift         6.600  2024      1   \n",
       "\n",
       "                genre_ids       budget      revenue  runtime  director_id  \n",
       "0          [27, 53, 9648]     806947.0   32000000.0      109         2636  \n",
       "1     [36, 10752, 18, 12]   12000000.0   60000000.0      197          240  \n",
       "2            [37, 28, 12]    2000000.0    4905000.0      127        14520  \n",
       "3         [35, 18, 10749]    3000000.0   25000000.0      125         3146  \n",
       "4                [35, 18]          NaN   19647000.0      176         4415  \n",
       "...                   ...          ...          ...      ...          ...  \n",
       "6416             [35, 18]    9000000.0   38825277.0      118       133214  \n",
       "6417        [28, 12, 878]  190000000.0  178000000.0      166       137427  \n",
       "6418        [878, 28, 18]          NaN          NaN      107      2879867  \n",
       "6419         [28, 53, 18]   35000000.0  149645000.0      105        19769  \n",
       "6420         [28, 35, 80]          NaN          NaN      107        37932  \n",
       "\n",
       "[6421 rows x 10 columns]"
      ]
     },
     "execution_count": 27,
     "metadata": {},
     "output_type": "execute_result"
    }
   ],
   "source": [
    "movie_data"
   ]
  },
  {
   "cell_type": "code",
   "execution_count": 28,
   "id": "66eb6e56-1eff-480a-9295-9fb51aaf2886",
   "metadata": {},
   "outputs": [
    {
     "data": {
      "text/plain": [
       "array([1960, 1961, 1962, 1963, 1964, 1965, 1966, 1967, 1968, 1969, 1970,\n",
       "       1971, 1972, 1973, 1974, 1975, 1976, 1977, 1978, 1979, 1980, 1981,\n",
       "       1982, 1983, 1984, 1985, 1986, 1987, 1988, 1989, 1990, 1991, 1992,\n",
       "       1993, 1994, 1995, 1996, 1997, 1998, 1999, 2000, 2001, 2002, 2003,\n",
       "       2004, 2005, 2006, 2007, 2008, 2009, 2010, 2011, 2012, 2013, 2014,\n",
       "       2015, 2016, 2017, 2018, 2019, 2020, 2021, 2022, 2023, 2024])"
      ]
     },
     "execution_count": 28,
     "metadata": {},
     "output_type": "execute_result"
    }
   ],
   "source": [
    "movie_data['year'].unique()"
   ]
  },
  {
   "cell_type": "code",
   "execution_count": 29,
   "id": "2ca9d7e2-2a4f-4378-bdff-85d636a7b33a",
   "metadata": {},
   "outputs": [],
   "source": [
    "years = movie_data['year'].unique()\n",
    "\n",
    "for year in years:\n",
    "    # Filter data for the current year\n",
    "    curr_year = movie_data[movie_data['year'] == year]\n",
    "    \n",
    "    # Calculate medians for budget and revenue\n",
    "    budget_median = curr_year['budget'].median()\n",
    "    revenue_median = curr_year['revenue'].median()\n",
    "    \n",
    "    # Fill missing values for budget and revenue with the medians\n",
    "    movie_data.loc[movie_data['year'] == year, 'budget'] = movie_data.loc[movie_data['year'] == year, 'budget'].fillna(budget_median)\n",
    "    movie_data.loc[movie_data['year'] == year, 'revenue'] = movie_data.loc[movie_data['year'] == year, 'revenue'].fillna(revenue_median)"
   ]
  },
  {
   "cell_type": "code",
   "execution_count": 30,
   "id": "6e8a3f76-25f9-4e32-9dbd-33292bea8afb",
   "metadata": {},
   "outputs": [
    {
     "data": {
      "text/html": [
       "<div>\n",
       "<style scoped>\n",
       "    .dataframe tbody tr th:only-of-type {\n",
       "        vertical-align: middle;\n",
       "    }\n",
       "\n",
       "    .dataframe tbody tr th {\n",
       "        vertical-align: top;\n",
       "    }\n",
       "\n",
       "    .dataframe thead th {\n",
       "        text-align: right;\n",
       "    }\n",
       "</style>\n",
       "<table border=\"1\" class=\"dataframe\">\n",
       "  <thead>\n",
       "    <tr style=\"text-align: right;\">\n",
       "      <th></th>\n",
       "      <th>id</th>\n",
       "      <th>title</th>\n",
       "      <th>vote_average</th>\n",
       "      <th>year</th>\n",
       "      <th>month</th>\n",
       "      <th>genre_ids</th>\n",
       "      <th>budget</th>\n",
       "      <th>revenue</th>\n",
       "      <th>runtime</th>\n",
       "      <th>director_id</th>\n",
       "    </tr>\n",
       "  </thead>\n",
       "  <tbody>\n",
       "    <tr>\n",
       "      <th>0</th>\n",
       "      <td>539</td>\n",
       "      <td>Psycho</td>\n",
       "      <td>8.434</td>\n",
       "      <td>1960</td>\n",
       "      <td>6</td>\n",
       "      <td>[27, 53, 9648]</td>\n",
       "      <td>806947.0</td>\n",
       "      <td>32000000.0</td>\n",
       "      <td>109</td>\n",
       "      <td>2636</td>\n",
       "    </tr>\n",
       "    <tr>\n",
       "      <th>1</th>\n",
       "      <td>967</td>\n",
       "      <td>Spartacus</td>\n",
       "      <td>7.500</td>\n",
       "      <td>1960</td>\n",
       "      <td>10</td>\n",
       "      <td>[36, 10752, 18, 12]</td>\n",
       "      <td>12000000.0</td>\n",
       "      <td>60000000.0</td>\n",
       "      <td>197</td>\n",
       "      <td>240</td>\n",
       "    </tr>\n",
       "    <tr>\n",
       "      <th>2</th>\n",
       "      <td>966</td>\n",
       "      <td>The Magnificent Seven</td>\n",
       "      <td>7.500</td>\n",
       "      <td>1960</td>\n",
       "      <td>10</td>\n",
       "      <td>[37, 28, 12]</td>\n",
       "      <td>2000000.0</td>\n",
       "      <td>4905000.0</td>\n",
       "      <td>127</td>\n",
       "      <td>14520</td>\n",
       "    </tr>\n",
       "    <tr>\n",
       "      <th>3</th>\n",
       "      <td>284</td>\n",
       "      <td>The Apartment</td>\n",
       "      <td>8.214</td>\n",
       "      <td>1960</td>\n",
       "      <td>6</td>\n",
       "      <td>[35, 18, 10749]</td>\n",
       "      <td>3000000.0</td>\n",
       "      <td>25000000.0</td>\n",
       "      <td>125</td>\n",
       "      <td>3146</td>\n",
       "    </tr>\n",
       "    <tr>\n",
       "      <th>4</th>\n",
       "      <td>439</td>\n",
       "      <td>La Dolce Vita</td>\n",
       "      <td>8.121</td>\n",
       "      <td>1960</td>\n",
       "      <td>2</td>\n",
       "      <td>[35, 18]</td>\n",
       "      <td>1403473.5</td>\n",
       "      <td>19647000.0</td>\n",
       "      <td>176</td>\n",
       "      <td>4415</td>\n",
       "    </tr>\n",
       "    <tr>\n",
       "      <th>...</th>\n",
       "      <td>...</td>\n",
       "      <td>...</td>\n",
       "      <td>...</td>\n",
       "      <td>...</td>\n",
       "      <td>...</td>\n",
       "      <td>...</td>\n",
       "      <td>...</td>\n",
       "      <td>...</td>\n",
       "      <td>...</td>\n",
       "      <td>...</td>\n",
       "    </tr>\n",
       "    <tr>\n",
       "      <th>6416</th>\n",
       "      <td>1026227</td>\n",
       "      <td>There's Still Tomorrow</td>\n",
       "      <td>8.295</td>\n",
       "      <td>2023</td>\n",
       "      <td>10</td>\n",
       "      <td>[35, 18]</td>\n",
       "      <td>9000000.0</td>\n",
       "      <td>38825277.0</td>\n",
       "      <td>118</td>\n",
       "      <td>133214</td>\n",
       "    </tr>\n",
       "    <tr>\n",
       "      <th>6417</th>\n",
       "      <td>693134</td>\n",
       "      <td>Dune: Part Two</td>\n",
       "      <td>8.549</td>\n",
       "      <td>2024</td>\n",
       "      <td>2</td>\n",
       "      <td>[28, 12, 878]</td>\n",
       "      <td>190000000.0</td>\n",
       "      <td>178000000.0</td>\n",
       "      <td>166</td>\n",
       "      <td>137427</td>\n",
       "    </tr>\n",
       "    <tr>\n",
       "      <th>6418</th>\n",
       "      <td>933131</td>\n",
       "      <td>Badland Hunters</td>\n",
       "      <td>6.800</td>\n",
       "      <td>2024</td>\n",
       "      <td>1</td>\n",
       "      <td>[878, 28, 18]</td>\n",
       "      <td>112500000.0</td>\n",
       "      <td>163822500.0</td>\n",
       "      <td>107</td>\n",
       "      <td>2879867</td>\n",
       "    </tr>\n",
       "    <tr>\n",
       "      <th>6419</th>\n",
       "      <td>866398</td>\n",
       "      <td>The Beekeeper</td>\n",
       "      <td>7.400</td>\n",
       "      <td>2024</td>\n",
       "      <td>1</td>\n",
       "      <td>[28, 53, 18]</td>\n",
       "      <td>35000000.0</td>\n",
       "      <td>149645000.0</td>\n",
       "      <td>105</td>\n",
       "      <td>19769</td>\n",
       "    </tr>\n",
       "    <tr>\n",
       "      <th>6420</th>\n",
       "      <td>955916</td>\n",
       "      <td>Lift</td>\n",
       "      <td>6.600</td>\n",
       "      <td>2024</td>\n",
       "      <td>1</td>\n",
       "      <td>[28, 35, 80]</td>\n",
       "      <td>112500000.0</td>\n",
       "      <td>163822500.0</td>\n",
       "      <td>107</td>\n",
       "      <td>37932</td>\n",
       "    </tr>\n",
       "  </tbody>\n",
       "</table>\n",
       "<p>6421 rows × 10 columns</p>\n",
       "</div>"
      ],
      "text/plain": [
       "           id                   title  vote_average  year  month  \\\n",
       "0         539                  Psycho         8.434  1960      6   \n",
       "1         967               Spartacus         7.500  1960     10   \n",
       "2         966   The Magnificent Seven         7.500  1960     10   \n",
       "3         284           The Apartment         8.214  1960      6   \n",
       "4         439           La Dolce Vita         8.121  1960      2   \n",
       "...       ...                     ...           ...   ...    ...   \n",
       "6416  1026227  There's Still Tomorrow         8.295  2023     10   \n",
       "6417   693134          Dune: Part Two         8.549  2024      2   \n",
       "6418   933131         Badland Hunters         6.800  2024      1   \n",
       "6419   866398           The Beekeeper         7.400  2024      1   \n",
       "6420   955916                    Lift         6.600  2024      1   \n",
       "\n",
       "                genre_ids       budget      revenue  runtime  director_id  \n",
       "0          [27, 53, 9648]     806947.0   32000000.0      109         2636  \n",
       "1     [36, 10752, 18, 12]   12000000.0   60000000.0      197          240  \n",
       "2            [37, 28, 12]    2000000.0    4905000.0      127        14520  \n",
       "3         [35, 18, 10749]    3000000.0   25000000.0      125         3146  \n",
       "4                [35, 18]    1403473.5   19647000.0      176         4415  \n",
       "...                   ...          ...          ...      ...          ...  \n",
       "6416             [35, 18]    9000000.0   38825277.0      118       133214  \n",
       "6417        [28, 12, 878]  190000000.0  178000000.0      166       137427  \n",
       "6418        [878, 28, 18]  112500000.0  163822500.0      107      2879867  \n",
       "6419         [28, 53, 18]   35000000.0  149645000.0      105        19769  \n",
       "6420         [28, 35, 80]  112500000.0  163822500.0      107        37932  \n",
       "\n",
       "[6421 rows x 10 columns]"
      ]
     },
     "execution_count": 30,
     "metadata": {},
     "output_type": "execute_result"
    }
   ],
   "source": [
    "movie_data"
   ]
  },
  {
   "cell_type": "code",
   "execution_count": 31,
   "id": "716af3ef-51e0-4a07-a20a-c3bceb099971",
   "metadata": {},
   "outputs": [],
   "source": [
    "movie_data.to_csv('data/cleaned_data.csv')"
   ]
  },
  {
   "cell_type": "code",
   "execution_count": null,
   "id": "58372ffa-4fdf-4509-91e9-98d0c828603a",
   "metadata": {},
   "outputs": [],
   "source": [
    "genre_dict = {'Action':28, 'Adventure':12, 'Animation':16, 'Comedy':35, 'Crime':80, 'Documentary':99,\n",
    "              'Drama':18, 'Family':10751, 'Fantasy':14, 'History':36, 'Horror':27, 'Music':10402,\n",
    "              'Mystery':9648, 'Romance':10749, 'Science_Fiction':878, 'Thriller':53,\n",
    "              'War':10752, 'Western':37}"
   ]
  },
  {
   "cell_type": "code",
   "execution_count": null,
   "id": "d54f9976-a159-45f9-9e38-473340f41cb0",
   "metadata": {},
   "outputs": [],
   "source": [
    "movie_data.genre_ids[0]"
   ]
  },
  {
   "cell_type": "code",
   "execution_count": null,
   "id": "b4f86768-e885-4627-9118-d0d5fd77a1c7",
   "metadata": {},
   "outputs": [],
   "source": [
    "id_to_genre = {v: k for k, v in genre_dict.items()}\n",
    "\n",
    "# Add new columns for each genre, initializing with 0\n",
    "for genre in genre_dict.keys():\n",
    "    movie_data[genre] = 0\n",
    "\n",
    "# Iterate through the dataframe and set genre columns\n",
    "for index, row in movie_data.iterrows():\n",
    "    for genre_id in row['genre_ids']:\n",
    "        genre_name = id_to_genre.get(genre_id)\n",
    "        if genre_name:\n",
    "            movie_data.at[index, genre_name] = 1"
   ]
  },
  {
   "cell_type": "code",
   "execution_count": null,
   "id": "cb293bbe-a91f-4b3f-aa1a-e8b735458945",
   "metadata": {},
   "outputs": [],
   "source": [
    "movie_data.shape"
   ]
  },
  {
   "cell_type": "code",
   "execution_count": null,
   "id": "ad29f46a-1db1-4baf-b86a-3a4da15e21bc",
   "metadata": {},
   "outputs": [],
   "source": [
    "average_rating = np.mean(movie_data.vote_average)"
   ]
  },
  {
   "cell_type": "code",
   "execution_count": null,
   "id": "5f0ca361-78d9-4f19-b902-c5d817314f2d",
   "metadata": {},
   "outputs": [],
   "source": [
    "_ = plt.hist(movie_data.vote_average, bins=20)\n",
    "_ = plt.axvline(x=average_rating, color='r', linestyle='--')"
   ]
  },
  {
   "cell_type": "code",
   "execution_count": null,
   "id": "aa50cebd-7c22-4e71-9ecb-b5200371ed2d",
   "metadata": {},
   "outputs": [],
   "source": [
    "genre_col = {key: i + 10 for i, key in enumerate(genre_dict.keys())}\n",
    "genre_col"
   ]
  },
  {
   "cell_type": "code",
   "execution_count": null,
   "id": "e9a8361d-b2ef-4481-a91a-5918a277d47b",
   "metadata": {
    "scrolled": true
   },
   "outputs": [],
   "source": [
    "filtered_dfs = {}\n",
    "for genre, col_index in genre_col.items():\n",
    "    filtered_dfs[genre] = movie_data[movie_data.iloc[:, col_index] == 1]"
   ]
  },
  {
   "cell_type": "code",
   "execution_count": null,
   "id": "72858a4f-8afa-46b8-ae0b-515c1d93aba3",
   "metadata": {},
   "outputs": [],
   "source": [
    "filtered_dfs['Action']"
   ]
  },
  {
   "cell_type": "code",
   "execution_count": null,
   "id": "9e8e765f-cc05-444a-82a7-25a6c21358ef",
   "metadata": {
    "scrolled": true
   },
   "outputs": [],
   "source": [
    "for key in filtered_dfs.keys():\n",
    "    print(key, filtered_dfs[key].vote_average.mean())"
   ]
  },
  {
   "cell_type": "code",
   "execution_count": null,
   "id": "ef73e403-4cbd-4ab1-8888-6e50d1222edd",
   "metadata": {
    "scrolled": true
   },
   "outputs": [],
   "source": [
    "movie_col = movie_data[['vote_average', 'year', 'month', 'budget',\n",
    "       'revenue', 'runtime', 'Action', 'Adventure', 'Animation',\n",
    "       'Comedy', 'Crime', 'Documentary', 'Drama', 'Family', 'Fantasy',\n",
    "       'History', 'Horror', 'Music', 'Mystery', 'Romance', 'Science_Fiction',\n",
    "       'Thriller', 'War', 'Western']]\n",
    "correlation = movie_col.corr()\n",
    "correlation"
   ]
  },
  {
   "cell_type": "code",
   "execution_count": null,
   "id": "0ff484ff-dfb1-42b8-ad97-1113805be34f",
   "metadata": {
    "scrolled": true
   },
   "outputs": [],
   "source": [
    "_ = sns.heatmap(correlation)"
   ]
  },
  {
   "cell_type": "code",
   "execution_count": null,
   "id": "30967cf2-13a2-4cb2-804c-948a9008615a",
   "metadata": {
    "scrolled": true
   },
   "outputs": [],
   "source": [
    "correlation.vote_average.sort_values(ascending=False)"
   ]
  },
  {
   "cell_type": "markdown",
   "id": "38e5ab2e-6fb8-4b95-b5b7-531f286fa022",
   "metadata": {},
   "source": [
    "### Are dramas more popular?"
   ]
  },
  {
   "cell_type": "code",
   "execution_count": null,
   "id": "56744c6a-3504-4420-a626-b3b33e8d5e4c",
   "metadata": {},
   "outputs": [],
   "source": [
    "drama_rating = movie_data.loc[movie_data.Drama == 1].vote_average\n",
    "not_drama_rating = movie_data.loc[movie_data.Drama != 1].vote_average"
   ]
  },
  {
   "cell_type": "code",
   "execution_count": null,
   "id": "565eed8e-22c6-4cbd-9078-c0667721d05f",
   "metadata": {},
   "outputs": [],
   "source": [
    "def ecdf(data):\n",
    "    \"\"\"Compute ECDF for a one-dimensional array of measurements.\"\"\"\n",
    "    # Number of data points: n\n",
    "    n = len(data)\n",
    "\n",
    "    # x-data for the ECDF: x\n",
    "    x = np.sort(data)\n",
    "\n",
    "    # y-data for the ECDF: y\n",
    "    y = np.arange(1, n+1) / n\n",
    "\n",
    "    return x, y"
   ]
  },
  {
   "cell_type": "code",
   "execution_count": null,
   "id": "782900dc-9263-491e-bdf3-7c2746fd7f86",
   "metadata": {},
   "outputs": [],
   "source": [
    "# Compute ECDF for drama data: x_drama, y_drama\n",
    "x_drama, y_drama = ecdf(drama_rating)\n",
    "x_not_drama, y_not_drama = ecdf(not_drama_rating)\n",
    "\n",
    "# Generate plot\n",
    "_ = plt.plot(x_drama, y_drama, marker='.', linestyle='none')\n",
    "_ = plt.plot(x_not_drama, y_not_drama, marker='.', linestyle='none')\n",
    "\n",
    "# Label the axes\n",
    "_ = plt.xlabel('x value?')\n",
    "_ = plt.ylabel('ECDF')\n",
    "_ = plt.legend(['Drama','Not Drama'])\n",
    "_ = plt.title('Empirical Cumulative Distribution Function: Drama films')\n",
    "\n",
    "# Display the plot\n",
    "plt.show()"
   ]
  },
  {
   "cell_type": "markdown",
   "id": "99399ecb-d7d7-4e48-bbff-a666fcae0ffb",
   "metadata": {},
   "source": [
    "#### Visually, it seems clear that dramatic films are rated more highly than other films.\n",
    "We can also demonstrate this through null hypothesis significance testing.\n",
    "\n",
    "Null hypothesis: There is no difference in ratings beween dramas and non-dramatic films."
   ]
  },
  {
   "cell_type": "code",
   "execution_count": null,
   "id": "79d7bfff-f414-4023-9c10-33876c36b2bd",
   "metadata": {},
   "outputs": [],
   "source": [
    "all_rating = np.concatenate((drama_rating, not_drama_rating))\n",
    "mean_replicates = []\n",
    "\n",
    "for i in range(10000):\n",
    "    rand_rating = np.random.permutation(all_rating)\n",
    "    rand_drama = rand_rating[:len(drama_rating)]\n",
    "    # rand_not_drama = rand_rating[len(drama_rating):]\n",
    "    mean_replicates.append(np.mean(rand_drama))"
   ]
  },
  {
   "cell_type": "code",
   "execution_count": null,
   "id": "0efefd24-8c31-439b-83d3-630cefead2a8",
   "metadata": {},
   "outputs": [],
   "source": [
    "np.mean(mean_replicates)"
   ]
  },
  {
   "cell_type": "code",
   "execution_count": null,
   "id": "1444158b-cb4f-4265-8003-2e48ae5ac9b8",
   "metadata": {},
   "outputs": [],
   "source": [
    "drama_mean = np.mean(drama_rating)\n",
    "drama_mean"
   ]
  },
  {
   "cell_type": "code",
   "execution_count": null,
   "id": "59e7ba88-be7c-466e-a76a-35c39d3a2c01",
   "metadata": {},
   "outputs": [],
   "source": [
    "_ = sns.histplot(mean_replicates)\n",
    "_ = plt.axvline(x=drama_mean, color='r', linestyle='--')"
   ]
  },
  {
   "cell_type": "code",
   "execution_count": null,
   "id": "43455920-63b9-49c0-b4bf-3dd0efd20318",
   "metadata": {},
   "outputs": [],
   "source": [
    "mean_replicates_array = np.array(mean_replicates)\n",
    "count_greater_than_drama_mean = np.sum(mean_replicates_array > drama_mean)\n",
    "\n",
    "print(count_greater_than_drama_mean)"
   ]
  },
  {
   "cell_type": "markdown",
   "id": "3444f91c-536d-4228-85ee-46d2249e7378",
   "metadata": {},
   "source": [
    "After taking 10000 permutations of the data, none of the replicates had average ratings anywhere close to the average rating of drama films. We have therefore shown visually and computationally that drama films are rated more highly than the average of all films in the dataset, with a very small p-value."
   ]
  },
  {
   "cell_type": "code",
   "execution_count": null,
   "id": "b3db6b4c-67a5-41b8-a02d-0c983cb8bd22",
   "metadata": {},
   "outputs": [],
   "source": [
    "# movie_data.to_csv('data/filtered_data.csv')"
   ]
  }
 ],
 "metadata": {
  "kernelspec": {
   "display_name": "Python 3 (ipykernel)",
   "language": "python",
   "name": "python3"
  },
  "language_info": {
   "codemirror_mode": {
    "name": "ipython",
    "version": 3
   },
   "file_extension": ".py",
   "mimetype": "text/x-python",
   "name": "python",
   "nbconvert_exporter": "python",
   "pygments_lexer": "ipython3",
   "version": "3.11.7"
  }
 },
 "nbformat": 4,
 "nbformat_minor": 5
}
