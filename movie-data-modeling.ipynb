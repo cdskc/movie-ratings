{
 "cells": [
  {
   "cell_type": "code",
   "execution_count": 1,
   "id": "8bca55f6-d535-4677-9aba-44cc1d67870b",
   "metadata": {},
   "outputs": [],
   "source": [
    "import pandas as pd\n",
    "import numpy as np\n",
    "import sklearn.model_selection\n",
    "from sklearn.model_selection import train_test_split\n",
    "from sklearn.model_selection import KFold\n",
    "from sklearn.model_selection import GridSearchCV\n",
    "from sklearn.linear_model import LinearRegression\n",
    "from sklearn.ensemble import RandomForestRegressor\n",
    "from sklearn.metrics import mean_squared_error, r2_score\n",
    "import xgboost as xgb\n",
    "# import warnings # For handling error messages.\n",
    "# warnings.simplefilter(action=\"ignore\", category=FutureWarning)"
   ]
  },
  {
   "cell_type": "code",
   "execution_count": 2,
   "id": "0324bba9-fb67-477b-b837-90abfb41744e",
   "metadata": {},
   "outputs": [],
   "source": [
    "movie_data = pd.read_csv('data/preprocessed_data.csv')"
   ]
  },
  {
   "cell_type": "code",
   "execution_count": 3,
   "id": "216fc8c6-ddfe-45ab-9231-fd28aa221a65",
   "metadata": {},
   "outputs": [
    {
     "data": {
      "text/html": [
       "<div>\n",
       "<style scoped>\n",
       "    .dataframe tbody tr th:only-of-type {\n",
       "        vertical-align: middle;\n",
       "    }\n",
       "\n",
       "    .dataframe tbody tr th {\n",
       "        vertical-align: top;\n",
       "    }\n",
       "\n",
       "    .dataframe thead th {\n",
       "        text-align: right;\n",
       "    }\n",
       "</style>\n",
       "<table border=\"1\" class=\"dataframe\">\n",
       "  <thead>\n",
       "    <tr style=\"text-align: right;\">\n",
       "      <th></th>\n",
       "      <th>title</th>\n",
       "      <th>vote_average</th>\n",
       "      <th>year</th>\n",
       "      <th>month</th>\n",
       "      <th>budget</th>\n",
       "      <th>revenue</th>\n",
       "      <th>runtime</th>\n",
       "      <th>Action</th>\n",
       "      <th>Adventure</th>\n",
       "      <th>Animation</th>\n",
       "      <th>...</th>\n",
       "      <th>director_12995</th>\n",
       "      <th>director_15217</th>\n",
       "      <th>director_16938</th>\n",
       "      <th>director_17494</th>\n",
       "      <th>director_17825</th>\n",
       "      <th>director_18878</th>\n",
       "      <th>director_19303</th>\n",
       "      <th>director_20907</th>\n",
       "      <th>director_36602</th>\n",
       "      <th>director_90367</th>\n",
       "    </tr>\n",
       "  </thead>\n",
       "  <tbody>\n",
       "    <tr>\n",
       "      <th>0</th>\n",
       "      <td>Psycho</td>\n",
       "      <td>8.434</td>\n",
       "      <td>1960</td>\n",
       "      <td>6</td>\n",
       "      <td>-0.841548</td>\n",
       "      <td>-0.388650</td>\n",
       "      <td>0.012591</td>\n",
       "      <td>0</td>\n",
       "      <td>0</td>\n",
       "      <td>0</td>\n",
       "      <td>...</td>\n",
       "      <td>0</td>\n",
       "      <td>0</td>\n",
       "      <td>0</td>\n",
       "      <td>0</td>\n",
       "      <td>0</td>\n",
       "      <td>0</td>\n",
       "      <td>0</td>\n",
       "      <td>0</td>\n",
       "      <td>0</td>\n",
       "      <td>0</td>\n",
       "    </tr>\n",
       "    <tr>\n",
       "      <th>1</th>\n",
       "      <td>Spartacus</td>\n",
       "      <td>7.500</td>\n",
       "      <td>1960</td>\n",
       "      <td>10</td>\n",
       "      <td>-0.578510</td>\n",
       "      <td>-0.236352</td>\n",
       "      <td>4.473263</td>\n",
       "      <td>0</td>\n",
       "      <td>1</td>\n",
       "      <td>0</td>\n",
       "      <td>...</td>\n",
       "      <td>0</td>\n",
       "      <td>0</td>\n",
       "      <td>0</td>\n",
       "      <td>0</td>\n",
       "      <td>0</td>\n",
       "      <td>0</td>\n",
       "      <td>0</td>\n",
       "      <td>0</td>\n",
       "      <td>0</td>\n",
       "      <td>0</td>\n",
       "    </tr>\n",
       "    <tr>\n",
       "      <th>2</th>\n",
       "      <td>The Magnificent Seven</td>\n",
       "      <td>7.500</td>\n",
       "      <td>1960</td>\n",
       "      <td>10</td>\n",
       "      <td>-0.813511</td>\n",
       "      <td>-0.536026</td>\n",
       "      <td>0.925002</td>\n",
       "      <td>1</td>\n",
       "      <td>1</td>\n",
       "      <td>0</td>\n",
       "      <td>...</td>\n",
       "      <td>0</td>\n",
       "      <td>0</td>\n",
       "      <td>0</td>\n",
       "      <td>0</td>\n",
       "      <td>0</td>\n",
       "      <td>0</td>\n",
       "      <td>0</td>\n",
       "      <td>0</td>\n",
       "      <td>0</td>\n",
       "      <td>0</td>\n",
       "    </tr>\n",
       "    <tr>\n",
       "      <th>3</th>\n",
       "      <td>The Apartment</td>\n",
       "      <td>8.214</td>\n",
       "      <td>1960</td>\n",
       "      <td>6</td>\n",
       "      <td>-0.790011</td>\n",
       "      <td>-0.426725</td>\n",
       "      <td>0.823623</td>\n",
       "      <td>0</td>\n",
       "      <td>0</td>\n",
       "      <td>0</td>\n",
       "      <td>...</td>\n",
       "      <td>0</td>\n",
       "      <td>0</td>\n",
       "      <td>0</td>\n",
       "      <td>0</td>\n",
       "      <td>0</td>\n",
       "      <td>0</td>\n",
       "      <td>0</td>\n",
       "      <td>0</td>\n",
       "      <td>0</td>\n",
       "      <td>0</td>\n",
       "    </tr>\n",
       "    <tr>\n",
       "      <th>4</th>\n",
       "      <td>La Dolce Vita</td>\n",
       "      <td>8.121</td>\n",
       "      <td>1960</td>\n",
       "      <td>2</td>\n",
       "      <td>-0.827530</td>\n",
       "      <td>-0.455841</td>\n",
       "      <td>3.408785</td>\n",
       "      <td>0</td>\n",
       "      <td>0</td>\n",
       "      <td>0</td>\n",
       "      <td>...</td>\n",
       "      <td>0</td>\n",
       "      <td>0</td>\n",
       "      <td>0</td>\n",
       "      <td>0</td>\n",
       "      <td>0</td>\n",
       "      <td>0</td>\n",
       "      <td>0</td>\n",
       "      <td>0</td>\n",
       "      <td>0</td>\n",
       "      <td>0</td>\n",
       "    </tr>\n",
       "  </tbody>\n",
       "</table>\n",
       "<p>5 rows × 83 columns</p>\n",
       "</div>"
      ],
      "text/plain": [
       "                   title  vote_average  year  month    budget   revenue  \\\n",
       "0                 Psycho         8.434  1960      6 -0.841548 -0.388650   \n",
       "1              Spartacus         7.500  1960     10 -0.578510 -0.236352   \n",
       "2  The Magnificent Seven         7.500  1960     10 -0.813511 -0.536026   \n",
       "3          The Apartment         8.214  1960      6 -0.790011 -0.426725   \n",
       "4          La Dolce Vita         8.121  1960      2 -0.827530 -0.455841   \n",
       "\n",
       "    runtime  Action  Adventure  Animation  ...  director_12995  \\\n",
       "0  0.012591       0          0          0  ...               0   \n",
       "1  4.473263       0          1          0  ...               0   \n",
       "2  0.925002       1          1          0  ...               0   \n",
       "3  0.823623       0          0          0  ...               0   \n",
       "4  3.408785       0          0          0  ...               0   \n",
       "\n",
       "   director_15217  director_16938  director_17494  director_17825  \\\n",
       "0               0               0               0               0   \n",
       "1               0               0               0               0   \n",
       "2               0               0               0               0   \n",
       "3               0               0               0               0   \n",
       "4               0               0               0               0   \n",
       "\n",
       "   director_18878  director_19303  director_20907  director_36602  \\\n",
       "0               0               0               0               0   \n",
       "1               0               0               0               0   \n",
       "2               0               0               0               0   \n",
       "3               0               0               0               0   \n",
       "4               0               0               0               0   \n",
       "\n",
       "   director_90367  \n",
       "0               0  \n",
       "1               0  \n",
       "2               0  \n",
       "3               0  \n",
       "4               0  \n",
       "\n",
       "[5 rows x 83 columns]"
      ]
     },
     "execution_count": 3,
     "metadata": {},
     "output_type": "execute_result"
    }
   ],
   "source": [
    "movie_data.head()"
   ]
  },
  {
   "cell_type": "code",
   "execution_count": 4,
   "id": "172bb481-f775-4bf6-b095-d34a6a29acb4",
   "metadata": {},
   "outputs": [],
   "source": [
    "X = movie_data.drop(columns=['title', 'vote_average'])\n",
    "y = movie_data['vote_average']\n",
    "X_train, X_test, y_train, y_test = train_test_split(X, y, test_size=0.2, random_state=42)"
   ]
  },
  {
   "cell_type": "markdown",
   "id": "ed3dbfa2-d045-4b8f-b319-a696172a87cd",
   "metadata": {},
   "source": [
    "## Linear Regression"
   ]
  },
  {
   "cell_type": "code",
   "execution_count": 20,
   "id": "0ebaae40-a2f8-4f73-bf21-631ad79b8837",
   "metadata": {},
   "outputs": [
    {
     "name": "stdout",
     "output_type": "stream",
     "text": [
      "Root Mean Squared Error (RMSE): 0.5897698821467545\n",
      "R-squared Score: 0.3735782078735075\n"
     ]
    }
   ],
   "source": [
    "lr = LinearRegression()\n",
    "lr.fit(X_train, y_train)\n",
    "y_pred = lr.predict(X_test)\n",
    "\n",
    "mse = mean_squared_error(y_test, y_pred)\n",
    "lr_rmse = np.sqrt(mse)\n",
    "r2 = r2_score(y_test, y_pred)\n",
    "\n",
    "print(f\"Root Mean Squared Error (RMSE): {lr_rmse}\")\n",
    "print(f\"R-squared Score: {r2}\")"
   ]
  },
  {
   "cell_type": "markdown",
   "id": "7a99c6b4-e000-4e2a-8342-7558104af177",
   "metadata": {},
   "source": [
    "## XGBoost Regression"
   ]
  },
  {
   "cell_type": "markdown",
   "id": "36fde731-ffaa-48c8-b63b-4736570092fa",
   "metadata": {},
   "source": [
    "### Default hyperparameters"
   ]
  },
  {
   "cell_type": "code",
   "execution_count": 5,
   "id": "b3d4e10c-71c1-4010-98ee-dba448a48692",
   "metadata": {},
   "outputs": [
    {
     "name": "stdout",
     "output_type": "stream",
     "text": [
      "Root Mean Squared Error (RMSE): 0.555646544106851\n",
      "R-squared Score: 0.44396911984664\n"
     ]
    }
   ],
   "source": [
    "reg = xgb.XGBRegressor(random_state=42)\n",
    "reg.fit(X_train, y_train)\n",
    "y_pred = reg.predict(X_test)\n",
    "\n",
    "mse = mean_squared_error(y_test, y_pred)\n",
    "xgb_default_rmse = np.sqrt(mse)\n",
    "r2 = r2_score(y_test, y_pred)\n",
    "\n",
    "print(f\"Root Mean Squared Error (RMSE): {xgb_default_rmse}\")\n",
    "print(f\"R-squared Score: {r2}\")"
   ]
  },
  {
   "cell_type": "markdown",
   "id": "d9363e91-5d88-4218-8c4b-47866d6f5b46",
   "metadata": {},
   "source": [
    "### Finding best parameters with GridSearchCV"
   ]
  },
  {
   "cell_type": "code",
   "execution_count": 6,
   "id": "5b037dfd-9ac5-43ba-b7a2-0ca397b89c31",
   "metadata": {},
   "outputs": [
    {
     "name": "stdout",
     "output_type": "stream",
     "text": [
      "Best parameters: {'learning_rate': 0.1, 'max_depth': 5, 'n_estimators': 200}\n",
      "Best score: -0.571530824309222\n"
     ]
    }
   ],
   "source": [
    "# Define the grid of hyperparameters\n",
    "param_grid = {\n",
    "    'n_estimators': [200, 300, 500],\n",
    "    'max_depth': [3, 5, 7],\n",
    "    'learning_rate': [0.01, 0.1, 0.2]\n",
    "}\n",
    "\n",
    "# Set up the grid search\n",
    "grid_search = GridSearchCV(estimator=reg, param_grid=param_grid, scoring='neg_root_mean_squared_error')\n",
    "\n",
    "# Fit the grid search\n",
    "grid_search.fit(X_train, y_train)\n",
    "\n",
    "best_params = grid_search.best_params_\n",
    "best_score = grid_search.best_score_\n",
    "\n",
    "print(f\"Best parameters: {best_params}\")\n",
    "print(f\"Best score: {best_score}\")"
   ]
  },
  {
   "cell_type": "markdown",
   "id": "1a3ea55f-1a63-470e-88ee-ea38d39f5854",
   "metadata": {},
   "source": [
    "### Applying to test set"
   ]
  },
  {
   "cell_type": "code",
   "execution_count": 7,
   "id": "25b2a9c9-049b-49ae-a849-f12204068bd4",
   "metadata": {},
   "outputs": [
    {
     "name": "stdout",
     "output_type": "stream",
     "text": [
      "Root Mean Squared Error (RMSE): 0.541439765805673\n",
      "R-squared Score: 0.4720388395195805\n"
     ]
    }
   ],
   "source": [
    "reg = xgb.XGBRegressor(**best_params, random_state=42)\n",
    "reg.fit(X_train, y_train)\n",
    "y_pred = reg.predict(X_test)\n",
    "\n",
    "mse = mean_squared_error(y_test, y_pred)\n",
    "xgb_gridsearch_rmse = np.sqrt(mse)\n",
    "r2 = r2_score(y_test, y_pred)\n",
    "\n",
    "print(f\"Root Mean Squared Error (RMSE): {xgb_gridsearch_rmse}\")\n",
    "print(f\"R-squared Score: {r2}\")"
   ]
  },
  {
   "cell_type": "code",
   "execution_count": 9,
   "id": "bfd163a1-e191-4638-8046-f8e89febae7a",
   "metadata": {},
   "outputs": [
    {
     "data": {
      "text/plain": [
       "0.014206778301178002"
      ]
     },
     "execution_count": 9,
     "metadata": {},
     "output_type": "execute_result"
    }
   ],
   "source": [
    "xgb_default_rmse - xgb_gridsearch_rmse"
   ]
  },
  {
   "cell_type": "markdown",
   "id": "266d45a8-f8f3-4679-9719-26298cfa62f1",
   "metadata": {},
   "source": [
    "We can see an improvement over the default hyperparameters, as measured by RMSE and R^2 values. This model's predicted ratings are 0.014 closer than the predicted ratings of the XGBoost default hyperparameters."
   ]
  },
  {
   "cell_type": "markdown",
   "id": "45fe2576-1b20-487a-a296-c361e38927f9",
   "metadata": {},
   "source": [
    "## Comparison: Random Forest"
   ]
  },
  {
   "cell_type": "markdown",
   "id": "b6d1cea5-d3ba-4a11-9988-22a0c19b72e9",
   "metadata": {},
   "source": [
    "### Default hyperparameters"
   ]
  },
  {
   "cell_type": "code",
   "execution_count": 10,
   "id": "b15c9703-0051-4e9a-8576-eacf7c85be28",
   "metadata": {},
   "outputs": [
    {
     "name": "stdout",
     "output_type": "stream",
     "text": [
      "Root Mean Squared Error (RMSE): 0.554469489460672\n",
      "R-squared Score: 0.44632236231656164\n"
     ]
    }
   ],
   "source": [
    "rf_model = RandomForestRegressor(random_state=42)\n",
    "rf_model.fit(X_train, y_train)\n",
    "y_pred = rf_model.predict(X_test)\n",
    "\n",
    "mse = mean_squared_error(y_test, y_pred)\n",
    "rf_default_rmse = np.sqrt(mse)\n",
    "r2 = r2_score(y_test, y_pred)\n",
    "\n",
    "print(f\"Root Mean Squared Error (RMSE): {rf_default_rmse}\")\n",
    "print(f\"R-squared Score: {r2}\")"
   ]
  },
  {
   "cell_type": "markdown",
   "id": "5674fa9f-cd15-4a71-93d3-e44bf2fc3832",
   "metadata": {},
   "source": [
    "### Finding best parameters with GridSearchCV"
   ]
  },
  {
   "cell_type": "code",
   "execution_count": 11,
   "id": "96c0627c-d1fa-4920-b0b8-63c8640e4aad",
   "metadata": {},
   "outputs": [
    {
     "name": "stdout",
     "output_type": "stream",
     "text": [
      "Fitting 5 folds for each of 18 candidates, totalling 90 fits\n",
      "Best Parameters: {'max_depth': 20, 'min_samples_split': 10, 'n_estimators': 300}\n"
     ]
    }
   ],
   "source": [
    "# Define the grid of hyperparameters\n",
    "param_grid = {\n",
    "    'n_estimators': [100, 200, 300],\n",
    "    'max_depth': [10, 20],\n",
    "    'min_samples_split': [2, 5, 10]\n",
    "}\n",
    "\n",
    "# Set up the grid search\n",
    "grid_search = GridSearchCV(estimator=rf_model, param_grid=param_grid, verbose=1, scoring='neg_root_mean_squared_error')\n",
    "\n",
    "# Fit the grid search\n",
    "grid_search.fit(X_train, y_train)\n",
    "\n",
    "# Get the best model and parameters\n",
    "best_rf_model = grid_search.best_estimator_\n",
    "best_params = grid_search.best_params_\n",
    "\n",
    "print(f'Best Parameters: {best_params}')"
   ]
  },
  {
   "cell_type": "markdown",
   "id": "2e082f7a-3164-4d7e-a80f-99da334615ef",
   "metadata": {},
   "source": [
    "### Applying to test set"
   ]
  },
  {
   "cell_type": "code",
   "execution_count": 12,
   "id": "061e22d2-1ad0-4ebd-ae3d-e9cdcca13fc1",
   "metadata": {},
   "outputs": [
    {
     "name": "stdout",
     "output_type": "stream",
     "text": [
      "Root Mean Squared Error (RMSE): 0.5508870719846513\n",
      "R-squared Score: 0.4534538521081134\n"
     ]
    }
   ],
   "source": [
    "rf_model = RandomForestRegressor(**best_params, random_state=42)\n",
    "rf_model.fit(X_train, y_train)\n",
    "y_pred = rf_model.predict(X_test)\n",
    "\n",
    "mse = mean_squared_error(y_test, y_pred)\n",
    "rf_gridsearch_rmse = np.sqrt(mse)\n",
    "r2 = r2_score(y_test, y_pred)\n",
    "\n",
    "print(f\"Root Mean Squared Error (RMSE): {rf_gridsearch_rmse}\")\n",
    "print(f\"R-squared Score: {r2}\")"
   ]
  },
  {
   "cell_type": "code",
   "execution_count": 13,
   "id": "679825ec-5d75-4cd6-9b65-47382a9dc571",
   "metadata": {},
   "outputs": [
    {
     "data": {
      "text/plain": [
       "0.0035824174760207272"
      ]
     },
     "execution_count": 13,
     "metadata": {},
     "output_type": "execute_result"
    }
   ],
   "source": [
    "rf_default_rmse - rf_gridsearch_rmse"
   ]
  },
  {
   "cell_type": "markdown",
   "id": "45b4df00-68dc-4888-bbaa-cb9fb10dc4a3",
   "metadata": {},
   "source": [
    "This particular grid search yields less improvement over the original model, as compared to the tests done with XGBoost."
   ]
  },
  {
   "cell_type": "markdown",
   "id": "6a87f36c-d312-46ee-b8c3-77bc88f0eebd",
   "metadata": {},
   "source": [
    "## Comparison of methods"
   ]
  },
  {
   "cell_type": "code",
   "execution_count": 21,
   "id": "5ff7a245-e097-499e-b390-730a839de08a",
   "metadata": {},
   "outputs": [
    {
     "name": "stdout",
     "output_type": "stream",
     "text": [
      "xgb_gridsearch_rmse: 0.541439765805673\n",
      "rf_gridsearch_rmse: 0.5508870719846513\n",
      "rf_default_rmse: 0.554469489460672\n",
      "xgb_default_rmse: 0.555646544106851\n",
      "lr_rmse: 0.5897698821467545\n"
     ]
    }
   ],
   "source": [
    "rmse_values = [\n",
    "    ('lr_rmse', lr_rmse),\n",
    "    ('rf_default_rmse', rf_default_rmse),\n",
    "    ('xgb_default_rmse', xgb_default_rmse),\n",
    "    ('rf_gridsearch_rmse', rf_gridsearch_rmse),\n",
    "    ('xgb_gridsearch_rmse', xgb_gridsearch_rmse)\n",
    "]\n",
    "\n",
    "sorted_rmse_values = sorted(rmse_values, key=lambda x: x[1])\n",
    "\n",
    "for label, value in sorted_rmse_values:\n",
    "    print(f'{label}: {value}')"
   ]
  }
 ],
 "metadata": {
  "kernelspec": {
   "display_name": "Python 3 (ipykernel)",
   "language": "python",
   "name": "python3"
  },
  "language_info": {
   "codemirror_mode": {
    "name": "ipython",
    "version": 3
   },
   "file_extension": ".py",
   "mimetype": "text/x-python",
   "name": "python",
   "nbconvert_exporter": "python",
   "pygments_lexer": "ipython3",
   "version": "3.11.7"
  }
 },
 "nbformat": 4,
 "nbformat_minor": 5
}
